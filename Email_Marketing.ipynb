{
 "cells": [
  {
   "cell_type": "code",
   "execution_count": 842,
   "id": "ffefd8af",
   "metadata": {},
   "outputs": [],
   "source": [
    "# Importing Libraries\n",
    "\n",
    "import numpy as np\n",
    "import pandas as pd \n",
    "import tensorflow as tf\n",
    "import matplotlib.pyplot as plt\n",
    "import seaborn as sns\n",
    "from sklearn.manifold import TSNE\n",
    "from sklearn.decomposition import PCA, TruncatedSVD\n",
    "import matplotlib.patches as mpatches\n",
    "import time\n",
    "\n",
    "# ML Libraries\n",
    "from sklearn.linear_model import LinearRegression\n",
    "\n",
    "from sklearn.metrics import confusion_matrix\n",
    "from sklearn.ensemble import RandomForestClassifier\n",
    "from sklearn.model_selection import train_test_split\n",
    "from sklearn.metrics import roc_curve, auc\n",
    "import collections\n",
    "from sklearn.ensemble import IsolationForest\n",
    "from sklearn.metrics import make_scorer, f1_score\n",
    "from sklearn import model_selection\n",
    "from sklearn.datasets import make_classification\n",
    "from sklearn.neighbors import LocalOutlierFactor\n",
    "from pylab import rcParams\n",
    "rcParams['figure.figsize'] = 14, 8\n",
    "RANDOM_SEED = 42\n",
    "LABELS = [\"Normal\", \"Fraud\"]\n",
    "\n",
    "# Other Libraries\n",
    "from sklearn.model_selection import train_test_split\n",
    "from sklearn.pipeline import make_pipeline\n",
    "\n",
    "from sklearn.metrics import precision_score, recall_score, f1_score, roc_auc_score, accuracy_score, classification_report\n",
    "from collections import Counter\n",
    "from sklearn.model_selection import KFold, StratifiedKFold\n",
    "import warnings\n",
    "warnings.filterwarnings(\"ignore\")"
   ]
  },
  {
   "cell_type": "markdown",
   "id": "440a3b72",
   "metadata": {},
   "source": [
    "# Loading the Data and EDA"
   ]
  },
  {
   "cell_type": "code",
   "execution_count": 843,
   "id": "c779eb14",
   "metadata": {},
   "outputs": [
    {
     "data": {
      "text/html": [
       "<div>\n",
       "<style scoped>\n",
       "    .dataframe tbody tr th:only-of-type {\n",
       "        vertical-align: middle;\n",
       "    }\n",
       "\n",
       "    .dataframe tbody tr th {\n",
       "        vertical-align: top;\n",
       "    }\n",
       "\n",
       "    .dataframe thead th {\n",
       "        text-align: right;\n",
       "    }\n",
       "</style>\n",
       "<table border=\"1\" class=\"dataframe\">\n",
       "  <thead>\n",
       "    <tr style=\"text-align: right;\">\n",
       "      <th></th>\n",
       "      <th>Customer_ID</th>\n",
       "      <th>Gender</th>\n",
       "      <th>Age</th>\n",
       "      <th>Boxes_Purchased_Cnt</th>\n",
       "      <th>Last_Purchase_Date</th>\n",
       "      <th>Unique_Emails_Sent</th>\n",
       "      <th>Open_Rate</th>\n",
       "      <th>Click_to_Open_Rate</th>\n",
       "      <th>Email_Unsubscribe_Ind</th>\n",
       "      <th>Email_Unsubscribe_Date</th>\n",
       "      <th>Customer_Status</th>\n",
       "      <th>Status_Cancel_Date</th>\n",
       "    </tr>\n",
       "  </thead>\n",
       "  <tbody>\n",
       "    <tr>\n",
       "      <th>0</th>\n",
       "      <td>1</td>\n",
       "      <td>F</td>\n",
       "      <td>25 to 34</td>\n",
       "      <td>2</td>\n",
       "      <td>2020-11-01 00:00:00</td>\n",
       "      <td>10 to 19</td>\n",
       "      <td>0</td>\n",
       "      <td>0</td>\n",
       "      <td>0</td>\n",
       "      <td>NaT</td>\n",
       "      <td>active</td>\n",
       "      <td>NaT</td>\n",
       "    </tr>\n",
       "    <tr>\n",
       "      <th>1</th>\n",
       "      <td>2</td>\n",
       "      <td>M</td>\n",
       "      <td>45 to 54</td>\n",
       "      <td>1</td>\n",
       "      <td>2020-05-01 00:00:00</td>\n",
       "      <td>10 to 19</td>\n",
       "      <td>&gt;50% to 75%</td>\n",
       "      <td>&gt;0% to 10%</td>\n",
       "      <td>1</td>\n",
       "      <td>2020-08-04</td>\n",
       "      <td>cancel</td>\n",
       "      <td>2020-05-01</td>\n",
       "    </tr>\n",
       "    <tr>\n",
       "      <th>2</th>\n",
       "      <td>3</td>\n",
       "      <td>M</td>\n",
       "      <td>35 to 44</td>\n",
       "      <td>2</td>\n",
       "      <td>Before 2020</td>\n",
       "      <td>20 to 29</td>\n",
       "      <td>&gt;25% to 50%</td>\n",
       "      <td>&gt;25%</td>\n",
       "      <td>0</td>\n",
       "      <td>NaT</td>\n",
       "      <td>active</td>\n",
       "      <td>NaT</td>\n",
       "    </tr>\n",
       "    <tr>\n",
       "      <th>3</th>\n",
       "      <td>4</td>\n",
       "      <td>F</td>\n",
       "      <td>55+</td>\n",
       "      <td>2</td>\n",
       "      <td>2020-08-01 00:00:00</td>\n",
       "      <td>20 to 29</td>\n",
       "      <td>0</td>\n",
       "      <td>0</td>\n",
       "      <td>1</td>\n",
       "      <td>2020-09-02</td>\n",
       "      <td>active</td>\n",
       "      <td>NaT</td>\n",
       "    </tr>\n",
       "    <tr>\n",
       "      <th>4</th>\n",
       "      <td>5</td>\n",
       "      <td>M</td>\n",
       "      <td>25 to 34</td>\n",
       "      <td>2</td>\n",
       "      <td>2020-02-01 00:00:00</td>\n",
       "      <td>NaN</td>\n",
       "      <td>0</td>\n",
       "      <td>0</td>\n",
       "      <td>1</td>\n",
       "      <td>2019-08-31</td>\n",
       "      <td>active</td>\n",
       "      <td>NaT</td>\n",
       "    </tr>\n",
       "  </tbody>\n",
       "</table>\n",
       "</div>"
      ],
      "text/plain": [
       "   Customer_ID Gender       Age  Boxes_Purchased_Cnt   Last_Purchase_Date  \\\n",
       "0            1      F  25 to 34                    2  2020-11-01 00:00:00   \n",
       "1            2      M  45 to 54                    1  2020-05-01 00:00:00   \n",
       "2            3      M  35 to 44                    2          Before 2020   \n",
       "3            4      F       55+                    2  2020-08-01 00:00:00   \n",
       "4            5      M  25 to 34                    2  2020-02-01 00:00:00   \n",
       "\n",
       "  Unique_Emails_Sent    Open_Rate Click_to_Open_Rate  Email_Unsubscribe_Ind  \\\n",
       "0           10 to 19            0                  0                      0   \n",
       "1           10 to 19  >50% to 75%         >0% to 10%                      1   \n",
       "2           20 to 29  >25% to 50%               >25%                      0   \n",
       "3           20 to 29            0                  0                      1   \n",
       "4                NaN            0                  0                      1   \n",
       "\n",
       "  Email_Unsubscribe_Date Customer_Status Status_Cancel_Date  \n",
       "0                    NaT          active                NaT  \n",
       "1             2020-08-04          cancel         2020-05-01  \n",
       "2                    NaT          active                NaT  \n",
       "3             2020-09-02          active                NaT  \n",
       "4             2019-08-31          active                NaT  "
      ]
     },
     "execution_count": 843,
     "metadata": {},
     "output_type": "execute_result"
    }
   ],
   "source": [
    "import pandas as pd\n",
    "\n",
    "missing_value = [\"n.a.\",\"NA\",\"n/a\", \"na\", \"NaN\", \"NULL\", \"None\"]\n",
    "\n",
    "data = pd.read_excel(\"Dataset.xlsx\", na_values = missing_value)\n",
    "data.head()"
   ]
  },
  {
   "cell_type": "code",
   "execution_count": 844,
   "id": "d188f776",
   "metadata": {},
   "outputs": [
    {
     "data": {
      "text/plain": [
       "Customer_ID               False\n",
       "Gender                     True\n",
       "Age                       False\n",
       "Boxes_Purchased_Cnt       False\n",
       "Last_Purchase_Date        False\n",
       "Unique_Emails_Sent         True\n",
       "Open_Rate                 False\n",
       "Click_to_Open_Rate        False\n",
       "Email_Unsubscribe_Ind     False\n",
       "Email_Unsubscribe_Date     True\n",
       "Customer_Status           False\n",
       "Status_Cancel_Date         True\n",
       "dtype: bool"
      ]
     },
     "execution_count": 844,
     "metadata": {},
     "output_type": "execute_result"
    }
   ],
   "source": [
    "data.isnull().max()"
   ]
  },
  {
   "cell_type": "markdown",
   "id": "a9cdfd96",
   "metadata": {},
   "source": [
    "It can be seen that the dataset has missing values for features: Gender, Email_Unsubscribe_Date and Status_Cancel_Date. Before creating any models, we need to impute these missing values with an appropriate method."
   ]
  },
  {
   "cell_type": "code",
   "execution_count": 845,
   "id": "a4ba4290",
   "metadata": {},
   "outputs": [
    {
     "data": {
      "text/plain": [
       "4000"
      ]
     },
     "execution_count": 845,
     "metadata": {},
     "output_type": "execute_result"
    }
   ],
   "source": [
    "len(data)"
   ]
  },
  {
   "cell_type": "markdown",
   "id": "f79fadac",
   "metadata": {},
   "source": [
    "It looks like there aren't many customers that have canceled the subscription. Let's take a look at the distribution of the Customer_Status : "
   ]
  },
  {
   "cell_type": "code",
   "execution_count": 846,
   "id": "7ea9f857",
   "metadata": {},
   "outputs": [
    {
     "name": "stdout",
     "output_type": "stream",
     "text": [
      "Active Subscriptions are 90.52 % of the dataset\n",
      "Canceled Subscriptions are 9.48 % of the dataset\n"
     ]
    }
   ],
   "source": [
    "print('Active Subscriptions are', round(data['Customer_Status'].str.contains('active').sum()/len(data) * 100,2), '% of the dataset')\n",
    "print('Canceled Subscriptions are', round(data['Customer_Status'].str.contains('cancel').sum()/len(data) * 100,2), '% of the dataset')"
   ]
  },
  {
   "cell_type": "code",
   "execution_count": 847,
   "id": "ee985c72",
   "metadata": {},
   "outputs": [
    {
     "data": {
      "text/plain": [
       "Text(0.5, 1.0, 'Distribution of 2 classes \\n (1: Active || 0: Canceled)')"
      ]
     },
     "execution_count": 847,
     "metadata": {},
     "output_type": "execute_result"
    },
    {
     "data": {
      "image/png": "[encoded data removed]",
      "text/plain": [
       "<Figure size 1008x576 with 1 Axes>"
      ]
     },
     "metadata": {
      "needs_background": "light"
     },
     "output_type": "display_data"
    }
   ],
   "source": [
    "colors = [\"#DF0101\", \"#0101DF\"]\n",
    "sns.countplot('Customer_Status', data=data, palette=colors)\n",
    "plt.title('Distribution of 2 classes \\n (1: Active || 0: Canceled)', fontsize=10)"
   ]
  },
  {
   "cell_type": "markdown",
   "id": "c0df2216",
   "metadata": {},
   "source": [
    " From the above exhibit, we can see that the data is skewed with respect to the customer status\n",
    ". Therefore, if we want to predict cancelation for a new customer, we should first take care of the imbalanced structure of the data\n",
    " by resampling methods and create an even distribution for both classes ( active, cancel). One way of doing so is to undersample \n",
    "the active customers and have a 50/50 distribution of both classes and then train a model."
   ]
  },
  {
   "cell_type": "code",
   "execution_count": null,
   "id": "8e51eb9a",
   "metadata": {},
   "outputs": [],
   "source": [
    "\n"
   ]
  },
  {
   "cell_type": "code",
   "execution_count": 848,
   "id": "b1901d68",
   "metadata": {},
   "outputs": [
    {
     "name": "stdout",
     "output_type": "stream",
     "text": [
      "Customer_ID                  0\n",
      "Gender                     255\n",
      "Age                          0\n",
      "Boxes_Purchased_Cnt          0\n",
      "Last_Purchase_Date           0\n",
      "Unique_Emails_Sent         196\n",
      "Open_Rate                    0\n",
      "Click_to_Open_Rate           0\n",
      "Email_Unsubscribe_Ind        0\n",
      "Email_Unsubscribe_Date    3476\n",
      "Customer_Status              0\n",
      "Status_Cancel_Date        3627\n",
      "dtype: int64\n"
     ]
    }
   ],
   "source": [
    "print(data.isnull().sum())"
   ]
  },
  {
   "cell_type": "markdown",
   "id": "5819b687",
   "metadata": {},
   "source": [
    "# Imputing Gender"
   ]
  },
  {
   "cell_type": "code",
   "execution_count": 849,
   "id": "02377a1d",
   "metadata": {},
   "outputs": [
    {
     "data": {
      "text/plain": [
       "0    F\n",
       "dtype: object"
      ]
     },
     "execution_count": 849,
     "metadata": {},
     "output_type": "execute_result"
    }
   ],
   "source": [
    "# Finding the mode of Gender\n",
    "data['Gender'].mode()"
   ]
  },
  {
   "cell_type": "code",
   "execution_count": 850,
   "id": "66124a3b",
   "metadata": {},
   "outputs": [],
   "source": [
    "data['Gender'].fillna('F', inplace=True)\n"
   ]
  },
  {
   "cell_type": "code",
   "execution_count": 851,
   "id": "dc1e006e",
   "metadata": {},
   "outputs": [
    {
     "name": "stdout",
     "output_type": "stream",
     "text": [
      "Customer_ID                  0\n",
      "Gender                       0\n",
      "Age                          0\n",
      "Boxes_Purchased_Cnt          0\n",
      "Last_Purchase_Date           0\n",
      "Unique_Emails_Sent         196\n",
      "Open_Rate                    0\n",
      "Click_to_Open_Rate           0\n",
      "Email_Unsubscribe_Ind        0\n",
      "Email_Unsubscribe_Date    3476\n",
      "Customer_Status              0\n",
      "Status_Cancel_Date        3627\n",
      "dtype: int64\n"
     ]
    }
   ],
   "source": [
    "print(data.isnull().sum())"
   ]
  },
  {
   "cell_type": "markdown",
   "id": "778288cb",
   "metadata": {},
   "source": [
    "# Modifying Age from Range to Mean"
   ]
  },
  {
   "cell_type": "code",
   "execution_count": 852,
   "id": "dc2a8da6",
   "metadata": {},
   "outputs": [
    {
     "data": {
      "text/plain": [
       "array(['25 to 34', '45 to 54', '35 to 44', '55+', '18 to 24'],\n",
       "      dtype=object)"
      ]
     },
     "execution_count": 852,
     "metadata": {},
     "output_type": "execute_result"
    }
   ],
   "source": [
    "data['Age'].unique()"
   ]
  },
  {
   "cell_type": "code",
   "execution_count": 853,
   "id": "68399d8e",
   "metadata": {},
   "outputs": [],
   "source": [
    "def age_mean(x):\n",
    "    if x == '25 to 34':\n",
    "        return int((25+34)/2)\n",
    "    elif x == '45 to 54':\n",
    "        return int((45+54)/2)\n",
    "    elif x == '35 to 44':\n",
    "        return int((35+44)/2)\n",
    "    elif x == '18 to 24':\n",
    "        return int((18+24)/2)\n",
    "    elif x == '55+':\n",
    "        return 55\n"
   ]
  },
  {
   "cell_type": "code",
   "execution_count": 854,
   "id": "1e1c7f92",
   "metadata": {},
   "outputs": [],
   "source": [
    "data['mean_age'] = data['Age'].apply(age_mean)\n",
    "mean_age = data['mean_age']"
   ]
  },
  {
   "cell_type": "code",
   "execution_count": 855,
   "id": "549e69d4",
   "metadata": {},
   "outputs": [],
   "source": [
    "data.drop(['Age'], axis = 1 , inplace = True)"
   ]
  },
  {
   "cell_type": "code",
   "execution_count": 856,
   "id": "d6f6def3",
   "metadata": {
    "scrolled": false
   },
   "outputs": [
    {
     "data": {
      "text/html": [
       "<div>\n",
       "<style scoped>\n",
       "    .dataframe tbody tr th:only-of-type {\n",
       "        vertical-align: middle;\n",
       "    }\n",
       "\n",
       "    .dataframe tbody tr th {\n",
       "        vertical-align: top;\n",
       "    }\n",
       "\n",
       "    .dataframe thead th {\n",
       "        text-align: right;\n",
       "    }\n",
       "</style>\n",
       "<table border=\"1\" class=\"dataframe\">\n",
       "  <thead>\n",
       "    <tr style=\"text-align: right;\">\n",
       "      <th></th>\n",
       "      <th>Customer_ID</th>\n",
       "      <th>Gender</th>\n",
       "      <th>Boxes_Purchased_Cnt</th>\n",
       "      <th>Last_Purchase_Date</th>\n",
       "      <th>Unique_Emails_Sent</th>\n",
       "      <th>Open_Rate</th>\n",
       "      <th>Click_to_Open_Rate</th>\n",
       "      <th>Email_Unsubscribe_Ind</th>\n",
       "      <th>Email_Unsubscribe_Date</th>\n",
       "      <th>Customer_Status</th>\n",
       "      <th>Status_Cancel_Date</th>\n",
       "      <th>mean_age</th>\n",
       "    </tr>\n",
       "  </thead>\n",
       "  <tbody>\n",
       "    <tr>\n",
       "      <th>0</th>\n",
       "      <td>1</td>\n",
       "      <td>F</td>\n",
       "      <td>2</td>\n",
       "      <td>2020-11-01 00:00:00</td>\n",
       "      <td>10 to 19</td>\n",
       "      <td>0</td>\n",
       "      <td>0</td>\n",
       "      <td>0</td>\n",
       "      <td>NaT</td>\n",
       "      <td>active</td>\n",
       "      <td>NaT</td>\n",
       "      <td>29</td>\n",
       "    </tr>\n",
       "    <tr>\n",
       "      <th>1</th>\n",
       "      <td>2</td>\n",
       "      <td>M</td>\n",
       "      <td>1</td>\n",
       "      <td>2020-05-01 00:00:00</td>\n",
       "      <td>10 to 19</td>\n",
       "      <td>&gt;50% to 75%</td>\n",
       "      <td>&gt;0% to 10%</td>\n",
       "      <td>1</td>\n",
       "      <td>2020-08-04</td>\n",
       "      <td>cancel</td>\n",
       "      <td>2020-05-01</td>\n",
       "      <td>49</td>\n",
       "    </tr>\n",
       "    <tr>\n",
       "      <th>2</th>\n",
       "      <td>3</td>\n",
       "      <td>M</td>\n",
       "      <td>2</td>\n",
       "      <td>Before 2020</td>\n",
       "      <td>20 to 29</td>\n",
       "      <td>&gt;25% to 50%</td>\n",
       "      <td>&gt;25%</td>\n",
       "      <td>0</td>\n",
       "      <td>NaT</td>\n",
       "      <td>active</td>\n",
       "      <td>NaT</td>\n",
       "      <td>39</td>\n",
       "    </tr>\n",
       "    <tr>\n",
       "      <th>3</th>\n",
       "      <td>4</td>\n",
       "      <td>F</td>\n",
       "      <td>2</td>\n",
       "      <td>2020-08-01 00:00:00</td>\n",
       "      <td>20 to 29</td>\n",
       "      <td>0</td>\n",
       "      <td>0</td>\n",
       "      <td>1</td>\n",
       "      <td>2020-09-02</td>\n",
       "      <td>active</td>\n",
       "      <td>NaT</td>\n",
       "      <td>55</td>\n",
       "    </tr>\n",
       "    <tr>\n",
       "      <th>4</th>\n",
       "      <td>5</td>\n",
       "      <td>M</td>\n",
       "      <td>2</td>\n",
       "      <td>2020-02-01 00:00:00</td>\n",
       "      <td>NaN</td>\n",
       "      <td>0</td>\n",
       "      <td>0</td>\n",
       "      <td>1</td>\n",
       "      <td>2019-08-31</td>\n",
       "      <td>active</td>\n",
       "      <td>NaT</td>\n",
       "      <td>29</td>\n",
       "    </tr>\n",
       "  </tbody>\n",
       "</table>\n",
       "</div>"
      ],
      "text/plain": [
       "   Customer_ID Gender  Boxes_Purchased_Cnt   Last_Purchase_Date  \\\n",
       "0            1      F                    2  2020-11-01 00:00:00   \n",
       "1            2      M                    1  2020-05-01 00:00:00   \n",
       "2            3      M                    2          Before 2020   \n",
       "3            4      F                    2  2020-08-01 00:00:00   \n",
       "4            5      M                    2  2020-02-01 00:00:00   \n",
       "\n",
       "  Unique_Emails_Sent    Open_Rate Click_to_Open_Rate  Email_Unsubscribe_Ind  \\\n",
       "0           10 to 19            0                  0                      0   \n",
       "1           10 to 19  >50% to 75%         >0% to 10%                      1   \n",
       "2           20 to 29  >25% to 50%               >25%                      0   \n",
       "3           20 to 29            0                  0                      1   \n",
       "4                NaN            0                  0                      1   \n",
       "\n",
       "  Email_Unsubscribe_Date Customer_Status Status_Cancel_Date  mean_age  \n",
       "0                    NaT          active                NaT        29  \n",
       "1             2020-08-04          cancel         2020-05-01        49  \n",
       "2                    NaT          active                NaT        39  \n",
       "3             2020-09-02          active                NaT        55  \n",
       "4             2019-08-31          active                NaT        29  "
      ]
     },
     "execution_count": 856,
     "metadata": {},
     "output_type": "execute_result"
    }
   ],
   "source": [
    "data.head()"
   ]
  },
  {
   "cell_type": "markdown",
   "id": "8248ade9",
   "metadata": {},
   "source": [
    "# Modifying Unique Emails Sent from Range to Mean"
   ]
  },
  {
   "cell_type": "code",
   "execution_count": 857,
   "id": "6f94fccd",
   "metadata": {},
   "outputs": [
    {
     "data": {
      "text/html": [
       "<div>\n",
       "<style scoped>\n",
       "    .dataframe tbody tr th:only-of-type {\n",
       "        vertical-align: middle;\n",
       "    }\n",
       "\n",
       "    .dataframe tbody tr th {\n",
       "        vertical-align: top;\n",
       "    }\n",
       "\n",
       "    .dataframe thead th {\n",
       "        text-align: right;\n",
       "    }\n",
       "</style>\n",
       "<table border=\"1\" class=\"dataframe\">\n",
       "  <thead>\n",
       "    <tr style=\"text-align: right;\">\n",
       "      <th></th>\n",
       "      <th>Customer_ID</th>\n",
       "      <th>Gender</th>\n",
       "      <th>Boxes_Purchased_Cnt</th>\n",
       "      <th>Last_Purchase_Date</th>\n",
       "      <th>Unique_Emails_Sent</th>\n",
       "      <th>Open_Rate</th>\n",
       "      <th>Click_to_Open_Rate</th>\n",
       "      <th>Email_Unsubscribe_Ind</th>\n",
       "      <th>Email_Unsubscribe_Date</th>\n",
       "      <th>Customer_Status</th>\n",
       "      <th>Status_Cancel_Date</th>\n",
       "      <th>mean_age</th>\n",
       "    </tr>\n",
       "  </thead>\n",
       "  <tbody>\n",
       "    <tr>\n",
       "      <th>0</th>\n",
       "      <td>1</td>\n",
       "      <td>F</td>\n",
       "      <td>2</td>\n",
       "      <td>2020-11-01 00:00:00</td>\n",
       "      <td>10 to 19</td>\n",
       "      <td>0</td>\n",
       "      <td>0</td>\n",
       "      <td>0</td>\n",
       "      <td>NaT</td>\n",
       "      <td>active</td>\n",
       "      <td>NaT</td>\n",
       "      <td>29</td>\n",
       "    </tr>\n",
       "    <tr>\n",
       "      <th>1</th>\n",
       "      <td>2</td>\n",
       "      <td>M</td>\n",
       "      <td>1</td>\n",
       "      <td>2020-05-01 00:00:00</td>\n",
       "      <td>10 to 19</td>\n",
       "      <td>&gt;50% to 75%</td>\n",
       "      <td>&gt;0% to 10%</td>\n",
       "      <td>1</td>\n",
       "      <td>2020-08-04</td>\n",
       "      <td>cancel</td>\n",
       "      <td>2020-05-01</td>\n",
       "      <td>49</td>\n",
       "    </tr>\n",
       "    <tr>\n",
       "      <th>2</th>\n",
       "      <td>3</td>\n",
       "      <td>M</td>\n",
       "      <td>2</td>\n",
       "      <td>Before 2020</td>\n",
       "      <td>20 to 29</td>\n",
       "      <td>&gt;25% to 50%</td>\n",
       "      <td>&gt;25%</td>\n",
       "      <td>0</td>\n",
       "      <td>NaT</td>\n",
       "      <td>active</td>\n",
       "      <td>NaT</td>\n",
       "      <td>39</td>\n",
       "    </tr>\n",
       "    <tr>\n",
       "      <th>3</th>\n",
       "      <td>4</td>\n",
       "      <td>F</td>\n",
       "      <td>2</td>\n",
       "      <td>2020-08-01 00:00:00</td>\n",
       "      <td>20 to 29</td>\n",
       "      <td>0</td>\n",
       "      <td>0</td>\n",
       "      <td>1</td>\n",
       "      <td>2020-09-02</td>\n",
       "      <td>active</td>\n",
       "      <td>NaT</td>\n",
       "      <td>55</td>\n",
       "    </tr>\n",
       "    <tr>\n",
       "      <th>4</th>\n",
       "      <td>5</td>\n",
       "      <td>M</td>\n",
       "      <td>2</td>\n",
       "      <td>2020-02-01 00:00:00</td>\n",
       "      <td>0</td>\n",
       "      <td>0</td>\n",
       "      <td>0</td>\n",
       "      <td>1</td>\n",
       "      <td>2019-08-31</td>\n",
       "      <td>active</td>\n",
       "      <td>NaT</td>\n",
       "      <td>29</td>\n",
       "    </tr>\n",
       "  </tbody>\n",
       "</table>\n",
       "</div>"
      ],
      "text/plain": [
       "   Customer_ID Gender  Boxes_Purchased_Cnt   Last_Purchase_Date  \\\n",
       "0            1      F                    2  2020-11-01 00:00:00   \n",
       "1            2      M                    1  2020-05-01 00:00:00   \n",
       "2            3      M                    2          Before 2020   \n",
       "3            4      F                    2  2020-08-01 00:00:00   \n",
       "4            5      M                    2  2020-02-01 00:00:00   \n",
       "\n",
       "  Unique_Emails_Sent    Open_Rate Click_to_Open_Rate  Email_Unsubscribe_Ind  \\\n",
       "0           10 to 19            0                  0                      0   \n",
       "1           10 to 19  >50% to 75%         >0% to 10%                      1   \n",
       "2           20 to 29  >25% to 50%               >25%                      0   \n",
       "3           20 to 29            0                  0                      1   \n",
       "4                  0            0                  0                      1   \n",
       "\n",
       "  Email_Unsubscribe_Date Customer_Status Status_Cancel_Date  mean_age  \n",
       "0                    NaT          active                NaT        29  \n",
       "1             2020-08-04          cancel         2020-05-01        49  \n",
       "2                    NaT          active                NaT        39  \n",
       "3             2020-09-02          active                NaT        55  \n",
       "4             2019-08-31          active                NaT        29  "
      ]
     },
     "execution_count": 857,
     "metadata": {},
     "output_type": "execute_result"
    }
   ],
   "source": [
    "data['Unique_Emails_Sent'] = data['Unique_Emails_Sent'].fillna(0)\n",
    "data.head()"
   ]
  },
  {
   "cell_type": "code",
   "execution_count": 858,
   "id": "851a0eb3",
   "metadata": {},
   "outputs": [
    {
     "name": "stdout",
     "output_type": "stream",
     "text": [
      "Customer_ID                  0\n",
      "Gender                       0\n",
      "Boxes_Purchased_Cnt          0\n",
      "Last_Purchase_Date           0\n",
      "Unique_Emails_Sent           0\n",
      "Open_Rate                    0\n",
      "Click_to_Open_Rate           0\n",
      "Email_Unsubscribe_Ind        0\n",
      "Email_Unsubscribe_Date    3476\n",
      "Customer_Status              0\n",
      "Status_Cancel_Date        3627\n",
      "mean_age                     0\n",
      "dtype: int64\n"
     ]
    }
   ],
   "source": [
    "print(data.isnull().sum())"
   ]
  },
  {
   "cell_type": "code",
   "execution_count": 859,
   "id": "2367df64",
   "metadata": {},
   "outputs": [
    {
     "data": {
      "text/plain": [
       "array(['10 to 19', '20 to 29', 0, '30 to 49', 'Less than 10', '50+'],\n",
       "      dtype=object)"
      ]
     },
     "execution_count": 859,
     "metadata": {},
     "output_type": "execute_result"
    }
   ],
   "source": [
    "data['Unique_Emails_Sent'].unique()"
   ]
  },
  {
   "cell_type": "code",
   "execution_count": 860,
   "id": "001f9eb5",
   "metadata": {},
   "outputs": [],
   "source": [
    "def email_mean(y):\n",
    "    if y == '10 to 19':\n",
    "        return int((10+19)/2)\n",
    "    elif y == '20 to 29':\n",
    "        return int((20+29)/2)\n",
    "    elif y == '30 to 49':\n",
    "        return int((30+49)/2)\n",
    "    elif y == 'Less than 10':\n",
    "        return 10\n",
    "    elif y == '50+':\n",
    "        return 50\n",
    "    elif y == 0 :\n",
    "        return 0"
   ]
  },
  {
   "cell_type": "code",
   "execution_count": 861,
   "id": "29072f1b",
   "metadata": {},
   "outputs": [],
   "source": [
    "data['mean_num_email_sent'] = data['Unique_Emails_Sent'].apply(email_mean)\n",
    "mean_num_email_sent = data['mean_num_email_sent']"
   ]
  },
  {
   "cell_type": "code",
   "execution_count": 862,
   "id": "8af96f82",
   "metadata": {},
   "outputs": [
    {
     "data": {
      "text/html": [
       "<div>\n",
       "<style scoped>\n",
       "    .dataframe tbody tr th:only-of-type {\n",
       "        vertical-align: middle;\n",
       "    }\n",
       "\n",
       "    .dataframe tbody tr th {\n",
       "        vertical-align: top;\n",
       "    }\n",
       "\n",
       "    .dataframe thead th {\n",
       "        text-align: right;\n",
       "    }\n",
       "</style>\n",
       "<table border=\"1\" class=\"dataframe\">\n",
       "  <thead>\n",
       "    <tr style=\"text-align: right;\">\n",
       "      <th></th>\n",
       "      <th>Customer_ID</th>\n",
       "      <th>Gender</th>\n",
       "      <th>Boxes_Purchased_Cnt</th>\n",
       "      <th>Last_Purchase_Date</th>\n",
       "      <th>Unique_Emails_Sent</th>\n",
       "      <th>Open_Rate</th>\n",
       "      <th>Click_to_Open_Rate</th>\n",
       "      <th>Email_Unsubscribe_Ind</th>\n",
       "      <th>Email_Unsubscribe_Date</th>\n",
       "      <th>Customer_Status</th>\n",
       "      <th>Status_Cancel_Date</th>\n",
       "      <th>mean_age</th>\n",
       "      <th>mean_num_email_sent</th>\n",
       "    </tr>\n",
       "  </thead>\n",
       "  <tbody>\n",
       "    <tr>\n",
       "      <th>0</th>\n",
       "      <td>1</td>\n",
       "      <td>F</td>\n",
       "      <td>2</td>\n",
       "      <td>2020-11-01 00:00:00</td>\n",
       "      <td>10 to 19</td>\n",
       "      <td>0</td>\n",
       "      <td>0</td>\n",
       "      <td>0</td>\n",
       "      <td>NaT</td>\n",
       "      <td>active</td>\n",
       "      <td>NaT</td>\n",
       "      <td>29</td>\n",
       "      <td>14</td>\n",
       "    </tr>\n",
       "    <tr>\n",
       "      <th>1</th>\n",
       "      <td>2</td>\n",
       "      <td>M</td>\n",
       "      <td>1</td>\n",
       "      <td>2020-05-01 00:00:00</td>\n",
       "      <td>10 to 19</td>\n",
       "      <td>&gt;50% to 75%</td>\n",
       "      <td>&gt;0% to 10%</td>\n",
       "      <td>1</td>\n",
       "      <td>2020-08-04</td>\n",
       "      <td>cancel</td>\n",
       "      <td>2020-05-01</td>\n",
       "      <td>49</td>\n",
       "      <td>14</td>\n",
       "    </tr>\n",
       "    <tr>\n",
       "      <th>2</th>\n",
       "      <td>3</td>\n",
       "      <td>M</td>\n",
       "      <td>2</td>\n",
       "      <td>Before 2020</td>\n",
       "      <td>20 to 29</td>\n",
       "      <td>&gt;25% to 50%</td>\n",
       "      <td>&gt;25%</td>\n",
       "      <td>0</td>\n",
       "      <td>NaT</td>\n",
       "      <td>active</td>\n",
       "      <td>NaT</td>\n",
       "      <td>39</td>\n",
       "      <td>24</td>\n",
       "    </tr>\n",
       "    <tr>\n",
       "      <th>3</th>\n",
       "      <td>4</td>\n",
       "      <td>F</td>\n",
       "      <td>2</td>\n",
       "      <td>2020-08-01 00:00:00</td>\n",
       "      <td>20 to 29</td>\n",
       "      <td>0</td>\n",
       "      <td>0</td>\n",
       "      <td>1</td>\n",
       "      <td>2020-09-02</td>\n",
       "      <td>active</td>\n",
       "      <td>NaT</td>\n",
       "      <td>55</td>\n",
       "      <td>24</td>\n",
       "    </tr>\n",
       "    <tr>\n",
       "      <th>4</th>\n",
       "      <td>5</td>\n",
       "      <td>M</td>\n",
       "      <td>2</td>\n",
       "      <td>2020-02-01 00:00:00</td>\n",
       "      <td>0</td>\n",
       "      <td>0</td>\n",
       "      <td>0</td>\n",
       "      <td>1</td>\n",
       "      <td>2019-08-31</td>\n",
       "      <td>active</td>\n",
       "      <td>NaT</td>\n",
       "      <td>29</td>\n",
       "      <td>0</td>\n",
       "    </tr>\n",
       "  </tbody>\n",
       "</table>\n",
       "</div>"
      ],
      "text/plain": [
       "   Customer_ID Gender  Boxes_Purchased_Cnt   Last_Purchase_Date  \\\n",
       "0            1      F                    2  2020-11-01 00:00:00   \n",
       "1            2      M                    1  2020-05-01 00:00:00   \n",
       "2            3      M                    2          Before 2020   \n",
       "3            4      F                    2  2020-08-01 00:00:00   \n",
       "4            5      M                    2  2020-02-01 00:00:00   \n",
       "\n",
       "  Unique_Emails_Sent    Open_Rate Click_to_Open_Rate  Email_Unsubscribe_Ind  \\\n",
       "0           10 to 19            0                  0                      0   \n",
       "1           10 to 19  >50% to 75%         >0% to 10%                      1   \n",
       "2           20 to 29  >25% to 50%               >25%                      0   \n",
       "3           20 to 29            0                  0                      1   \n",
       "4                  0            0                  0                      1   \n",
       "\n",
       "  Email_Unsubscribe_Date Customer_Status Status_Cancel_Date  mean_age  \\\n",
       "0                    NaT          active                NaT        29   \n",
       "1             2020-08-04          cancel         2020-05-01        49   \n",
       "2                    NaT          active                NaT        39   \n",
       "3             2020-09-02          active                NaT        55   \n",
       "4             2019-08-31          active                NaT        29   \n",
       "\n",
       "   mean_num_email_sent  \n",
       "0                   14  \n",
       "1                   14  \n",
       "2                   24  \n",
       "3                   24  \n",
       "4                    0  "
      ]
     },
     "execution_count": 862,
     "metadata": {},
     "output_type": "execute_result"
    }
   ],
   "source": [
    "data.head()"
   ]
  },
  {
   "cell_type": "code",
   "execution_count": 863,
   "id": "5bf29cd1",
   "metadata": {},
   "outputs": [],
   "source": [
    "data.drop(['Unique_Emails_Sent'], axis = 1 , inplace = True)"
   ]
  },
  {
   "cell_type": "code",
   "execution_count": 864,
   "id": "82f70930",
   "metadata": {},
   "outputs": [
    {
     "data": {
      "text/html": [
       "<div>\n",
       "<style scoped>\n",
       "    .dataframe tbody tr th:only-of-type {\n",
       "        vertical-align: middle;\n",
       "    }\n",
       "\n",
       "    .dataframe tbody tr th {\n",
       "        vertical-align: top;\n",
       "    }\n",
       "\n",
       "    .dataframe thead th {\n",
       "        text-align: right;\n",
       "    }\n",
       "</style>\n",
       "<table border=\"1\" class=\"dataframe\">\n",
       "  <thead>\n",
       "    <tr style=\"text-align: right;\">\n",
       "      <th></th>\n",
       "      <th>Customer_ID</th>\n",
       "      <th>Gender</th>\n",
       "      <th>Boxes_Purchased_Cnt</th>\n",
       "      <th>Last_Purchase_Date</th>\n",
       "      <th>Open_Rate</th>\n",
       "      <th>Click_to_Open_Rate</th>\n",
       "      <th>Email_Unsubscribe_Ind</th>\n",
       "      <th>Email_Unsubscribe_Date</th>\n",
       "      <th>Customer_Status</th>\n",
       "      <th>Status_Cancel_Date</th>\n",
       "      <th>mean_age</th>\n",
       "      <th>mean_num_email_sent</th>\n",
       "    </tr>\n",
       "  </thead>\n",
       "  <tbody>\n",
       "    <tr>\n",
       "      <th>0</th>\n",
       "      <td>1</td>\n",
       "      <td>F</td>\n",
       "      <td>2</td>\n",
       "      <td>2020-11-01 00:00:00</td>\n",
       "      <td>0</td>\n",
       "      <td>0</td>\n",
       "      <td>0</td>\n",
       "      <td>NaT</td>\n",
       "      <td>active</td>\n",
       "      <td>NaT</td>\n",
       "      <td>29</td>\n",
       "      <td>14</td>\n",
       "    </tr>\n",
       "    <tr>\n",
       "      <th>1</th>\n",
       "      <td>2</td>\n",
       "      <td>M</td>\n",
       "      <td>1</td>\n",
       "      <td>2020-05-01 00:00:00</td>\n",
       "      <td>&gt;50% to 75%</td>\n",
       "      <td>&gt;0% to 10%</td>\n",
       "      <td>1</td>\n",
       "      <td>2020-08-04</td>\n",
       "      <td>cancel</td>\n",
       "      <td>2020-05-01</td>\n",
       "      <td>49</td>\n",
       "      <td>14</td>\n",
       "    </tr>\n",
       "    <tr>\n",
       "      <th>2</th>\n",
       "      <td>3</td>\n",
       "      <td>M</td>\n",
       "      <td>2</td>\n",
       "      <td>Before 2020</td>\n",
       "      <td>&gt;25% to 50%</td>\n",
       "      <td>&gt;25%</td>\n",
       "      <td>0</td>\n",
       "      <td>NaT</td>\n",
       "      <td>active</td>\n",
       "      <td>NaT</td>\n",
       "      <td>39</td>\n",
       "      <td>24</td>\n",
       "    </tr>\n",
       "    <tr>\n",
       "      <th>3</th>\n",
       "      <td>4</td>\n",
       "      <td>F</td>\n",
       "      <td>2</td>\n",
       "      <td>2020-08-01 00:00:00</td>\n",
       "      <td>0</td>\n",
       "      <td>0</td>\n",
       "      <td>1</td>\n",
       "      <td>2020-09-02</td>\n",
       "      <td>active</td>\n",
       "      <td>NaT</td>\n",
       "      <td>55</td>\n",
       "      <td>24</td>\n",
       "    </tr>\n",
       "    <tr>\n",
       "      <th>4</th>\n",
       "      <td>5</td>\n",
       "      <td>M</td>\n",
       "      <td>2</td>\n",
       "      <td>2020-02-01 00:00:00</td>\n",
       "      <td>0</td>\n",
       "      <td>0</td>\n",
       "      <td>1</td>\n",
       "      <td>2019-08-31</td>\n",
       "      <td>active</td>\n",
       "      <td>NaT</td>\n",
       "      <td>29</td>\n",
       "      <td>0</td>\n",
       "    </tr>\n",
       "  </tbody>\n",
       "</table>\n",
       "</div>"
      ],
      "text/plain": [
       "   Customer_ID Gender  Boxes_Purchased_Cnt   Last_Purchase_Date    Open_Rate  \\\n",
       "0            1      F                    2  2020-11-01 00:00:00            0   \n",
       "1            2      M                    1  2020-05-01 00:00:00  >50% to 75%   \n",
       "2            3      M                    2          Before 2020  >25% to 50%   \n",
       "3            4      F                    2  2020-08-01 00:00:00            0   \n",
       "4            5      M                    2  2020-02-01 00:00:00            0   \n",
       "\n",
       "  Click_to_Open_Rate  Email_Unsubscribe_Ind Email_Unsubscribe_Date  \\\n",
       "0                  0                      0                    NaT   \n",
       "1         >0% to 10%                      1             2020-08-04   \n",
       "2               >25%                      0                    NaT   \n",
       "3                  0                      1             2020-09-02   \n",
       "4                  0                      1             2019-08-31   \n",
       "\n",
       "  Customer_Status Status_Cancel_Date  mean_age  mean_num_email_sent  \n",
       "0          active                NaT        29                   14  \n",
       "1          cancel         2020-05-01        49                   14  \n",
       "2          active                NaT        39                   24  \n",
       "3          active                NaT        55                   24  \n",
       "4          active                NaT        29                    0  "
      ]
     },
     "execution_count": 864,
     "metadata": {},
     "output_type": "execute_result"
    }
   ],
   "source": [
    "data.head()"
   ]
  },
  {
   "cell_type": "code",
   "execution_count": 865,
   "id": "7b7b29ef",
   "metadata": {},
   "outputs": [
    {
     "data": {
      "text/plain": [
       "array([0, '>50% to 75%', '>25% to 50%', '>0% to 25%', '>75%'],\n",
       "      dtype=object)"
      ]
     },
     "execution_count": 865,
     "metadata": {},
     "output_type": "execute_result"
    }
   ],
   "source": [
    "data['Open_Rate'].unique()"
   ]
  },
  {
   "cell_type": "markdown",
   "id": "d1e1bff6",
   "metadata": {},
   "source": [
    "# Calculationg Average Open Rate for Each Customer"
   ]
  },
  {
   "cell_type": "code",
   "execution_count": 866,
   "id": "b7087694",
   "metadata": {},
   "outputs": [],
   "source": [
    "def open_rate_average(z):\n",
    "    if z == '>50% to 75%':\n",
    "        return (50+75)/2\n",
    "    elif z == '>25% to 50%':\n",
    "        return (25+50)/2\n",
    "    elif z == '>0% to 25%':\n",
    "        return (25)/2\n",
    "    elif z == '>75%':\n",
    "        return (75+100)/2\n",
    "    elif z == 0:\n",
    "        return 0\n",
    "    "
   ]
  },
  {
   "cell_type": "code",
   "execution_count": 867,
   "id": "76cbbbbc",
   "metadata": {
    "scrolled": true
   },
   "outputs": [
    {
     "data": {
      "text/html": [
       "<div>\n",
       "<style scoped>\n",
       "    .dataframe tbody tr th:only-of-type {\n",
       "        vertical-align: middle;\n",
       "    }\n",
       "\n",
       "    .dataframe tbody tr th {\n",
       "        vertical-align: top;\n",
       "    }\n",
       "\n",
       "    .dataframe thead th {\n",
       "        text-align: right;\n",
       "    }\n",
       "</style>\n",
       "<table border=\"1\" class=\"dataframe\">\n",
       "  <thead>\n",
       "    <tr style=\"text-align: right;\">\n",
       "      <th></th>\n",
       "      <th>Customer_ID</th>\n",
       "      <th>Gender</th>\n",
       "      <th>Boxes_Purchased_Cnt</th>\n",
       "      <th>Last_Purchase_Date</th>\n",
       "      <th>Open_Rate</th>\n",
       "      <th>Click_to_Open_Rate</th>\n",
       "      <th>Email_Unsubscribe_Ind</th>\n",
       "      <th>Email_Unsubscribe_Date</th>\n",
       "      <th>Customer_Status</th>\n",
       "      <th>Status_Cancel_Date</th>\n",
       "      <th>mean_age</th>\n",
       "      <th>mean_num_email_sent</th>\n",
       "      <th>open_rate_avg</th>\n",
       "    </tr>\n",
       "  </thead>\n",
       "  <tbody>\n",
       "    <tr>\n",
       "      <th>0</th>\n",
       "      <td>1</td>\n",
       "      <td>F</td>\n",
       "      <td>2</td>\n",
       "      <td>2020-11-01 00:00:00</td>\n",
       "      <td>0</td>\n",
       "      <td>0</td>\n",
       "      <td>0</td>\n",
       "      <td>NaT</td>\n",
       "      <td>active</td>\n",
       "      <td>NaT</td>\n",
       "      <td>29</td>\n",
       "      <td>14</td>\n",
       "      <td>0.0</td>\n",
       "    </tr>\n",
       "    <tr>\n",
       "      <th>1</th>\n",
       "      <td>2</td>\n",
       "      <td>M</td>\n",
       "      <td>1</td>\n",
       "      <td>2020-05-01 00:00:00</td>\n",
       "      <td>&gt;50% to 75%</td>\n",
       "      <td>&gt;0% to 10%</td>\n",
       "      <td>1</td>\n",
       "      <td>2020-08-04</td>\n",
       "      <td>cancel</td>\n",
       "      <td>2020-05-01</td>\n",
       "      <td>49</td>\n",
       "      <td>14</td>\n",
       "      <td>62.5</td>\n",
       "    </tr>\n",
       "    <tr>\n",
       "      <th>2</th>\n",
       "      <td>3</td>\n",
       "      <td>M</td>\n",
       "      <td>2</td>\n",
       "      <td>Before 2020</td>\n",
       "      <td>&gt;25% to 50%</td>\n",
       "      <td>&gt;25%</td>\n",
       "      <td>0</td>\n",
       "      <td>NaT</td>\n",
       "      <td>active</td>\n",
       "      <td>NaT</td>\n",
       "      <td>39</td>\n",
       "      <td>24</td>\n",
       "      <td>37.5</td>\n",
       "    </tr>\n",
       "    <tr>\n",
       "      <th>3</th>\n",
       "      <td>4</td>\n",
       "      <td>F</td>\n",
       "      <td>2</td>\n",
       "      <td>2020-08-01 00:00:00</td>\n",
       "      <td>0</td>\n",
       "      <td>0</td>\n",
       "      <td>1</td>\n",
       "      <td>2020-09-02</td>\n",
       "      <td>active</td>\n",
       "      <td>NaT</td>\n",
       "      <td>55</td>\n",
       "      <td>24</td>\n",
       "      <td>0.0</td>\n",
       "    </tr>\n",
       "    <tr>\n",
       "      <th>4</th>\n",
       "      <td>5</td>\n",
       "      <td>M</td>\n",
       "      <td>2</td>\n",
       "      <td>2020-02-01 00:00:00</td>\n",
       "      <td>0</td>\n",
       "      <td>0</td>\n",
       "      <td>1</td>\n",
       "      <td>2019-08-31</td>\n",
       "      <td>active</td>\n",
       "      <td>NaT</td>\n",
       "      <td>29</td>\n",
       "      <td>0</td>\n",
       "      <td>0.0</td>\n",
       "    </tr>\n",
       "  </tbody>\n",
       "</table>\n",
       "</div>"
      ],
      "text/plain": [
       "   Customer_ID Gender  Boxes_Purchased_Cnt   Last_Purchase_Date    Open_Rate  \\\n",
       "0            1      F                    2  2020-11-01 00:00:00            0   \n",
       "1            2      M                    1  2020-05-01 00:00:00  >50% to 75%   \n",
       "2            3      M                    2          Before 2020  >25% to 50%   \n",
       "3            4      F                    2  2020-08-01 00:00:00            0   \n",
       "4            5      M                    2  2020-02-01 00:00:00            0   \n",
       "\n",
       "  Click_to_Open_Rate  Email_Unsubscribe_Ind Email_Unsubscribe_Date  \\\n",
       "0                  0                      0                    NaT   \n",
       "1         >0% to 10%                      1             2020-08-04   \n",
       "2               >25%                      0                    NaT   \n",
       "3                  0                      1             2020-09-02   \n",
       "4                  0                      1             2019-08-31   \n",
       "\n",
       "  Customer_Status Status_Cancel_Date  mean_age  mean_num_email_sent  \\\n",
       "0          active                NaT        29                   14   \n",
       "1          cancel         2020-05-01        49                   14   \n",
       "2          active                NaT        39                   24   \n",
       "3          active                NaT        55                   24   \n",
       "4          active                NaT        29                    0   \n",
       "\n",
       "   open_rate_avg  \n",
       "0            0.0  \n",
       "1           62.5  \n",
       "2           37.5  \n",
       "3            0.0  \n",
       "4            0.0  "
      ]
     },
     "execution_count": 867,
     "metadata": {},
     "output_type": "execute_result"
    }
   ],
   "source": [
    "data['open_rate_avg'] = data['Open_Rate'].apply(open_rate_average)\n",
    "open_rate_avg = data['open_rate_avg']\n",
    "data.head()\n"
   ]
  },
  {
   "cell_type": "code",
   "execution_count": 868,
   "id": "9543c928",
   "metadata": {},
   "outputs": [],
   "source": [
    "data.drop(['Open_Rate'], axis = 1, inplace = True)"
   ]
  },
  {
   "cell_type": "code",
   "execution_count": 869,
   "id": "1f46a5ae",
   "metadata": {},
   "outputs": [
    {
     "data": {
      "text/html": [
       "<div>\n",
       "<style scoped>\n",
       "    .dataframe tbody tr th:only-of-type {\n",
       "        vertical-align: middle;\n",
       "    }\n",
       "\n",
       "    .dataframe tbody tr th {\n",
       "        vertical-align: top;\n",
       "    }\n",
       "\n",
       "    .dataframe thead th {\n",
       "        text-align: right;\n",
       "    }\n",
       "</style>\n",
       "<table border=\"1\" class=\"dataframe\">\n",
       "  <thead>\n",
       "    <tr style=\"text-align: right;\">\n",
       "      <th></th>\n",
       "      <th>Customer_ID</th>\n",
       "      <th>Gender</th>\n",
       "      <th>Boxes_Purchased_Cnt</th>\n",
       "      <th>Last_Purchase_Date</th>\n",
       "      <th>Click_to_Open_Rate</th>\n",
       "      <th>Email_Unsubscribe_Ind</th>\n",
       "      <th>Email_Unsubscribe_Date</th>\n",
       "      <th>Customer_Status</th>\n",
       "      <th>Status_Cancel_Date</th>\n",
       "      <th>mean_age</th>\n",
       "      <th>mean_num_email_sent</th>\n",
       "      <th>open_rate_avg</th>\n",
       "    </tr>\n",
       "  </thead>\n",
       "  <tbody>\n",
       "    <tr>\n",
       "      <th>0</th>\n",
       "      <td>1</td>\n",
       "      <td>F</td>\n",
       "      <td>2</td>\n",
       "      <td>2020-11-01 00:00:00</td>\n",
       "      <td>0</td>\n",
       "      <td>0</td>\n",
       "      <td>NaT</td>\n",
       "      <td>active</td>\n",
       "      <td>NaT</td>\n",
       "      <td>29</td>\n",
       "      <td>14</td>\n",
       "      <td>0.0</td>\n",
       "    </tr>\n",
       "    <tr>\n",
       "      <th>1</th>\n",
       "      <td>2</td>\n",
       "      <td>M</td>\n",
       "      <td>1</td>\n",
       "      <td>2020-05-01 00:00:00</td>\n",
       "      <td>&gt;0% to 10%</td>\n",
       "      <td>1</td>\n",
       "      <td>2020-08-04</td>\n",
       "      <td>cancel</td>\n",
       "      <td>2020-05-01</td>\n",
       "      <td>49</td>\n",
       "      <td>14</td>\n",
       "      <td>62.5</td>\n",
       "    </tr>\n",
       "    <tr>\n",
       "      <th>2</th>\n",
       "      <td>3</td>\n",
       "      <td>M</td>\n",
       "      <td>2</td>\n",
       "      <td>Before 2020</td>\n",
       "      <td>&gt;25%</td>\n",
       "      <td>0</td>\n",
       "      <td>NaT</td>\n",
       "      <td>active</td>\n",
       "      <td>NaT</td>\n",
       "      <td>39</td>\n",
       "      <td>24</td>\n",
       "      <td>37.5</td>\n",
       "    </tr>\n",
       "    <tr>\n",
       "      <th>3</th>\n",
       "      <td>4</td>\n",
       "      <td>F</td>\n",
       "      <td>2</td>\n",
       "      <td>2020-08-01 00:00:00</td>\n",
       "      <td>0</td>\n",
       "      <td>1</td>\n",
       "      <td>2020-09-02</td>\n",
       "      <td>active</td>\n",
       "      <td>NaT</td>\n",
       "      <td>55</td>\n",
       "      <td>24</td>\n",
       "      <td>0.0</td>\n",
       "    </tr>\n",
       "    <tr>\n",
       "      <th>4</th>\n",
       "      <td>5</td>\n",
       "      <td>M</td>\n",
       "      <td>2</td>\n",
       "      <td>2020-02-01 00:00:00</td>\n",
       "      <td>0</td>\n",
       "      <td>1</td>\n",
       "      <td>2019-08-31</td>\n",
       "      <td>active</td>\n",
       "      <td>NaT</td>\n",
       "      <td>29</td>\n",
       "      <td>0</td>\n",
       "      <td>0.0</td>\n",
       "    </tr>\n",
       "  </tbody>\n",
       "</table>\n",
       "</div>"
      ],
      "text/plain": [
       "   Customer_ID Gender  Boxes_Purchased_Cnt   Last_Purchase_Date  \\\n",
       "0            1      F                    2  2020-11-01 00:00:00   \n",
       "1            2      M                    1  2020-05-01 00:00:00   \n",
       "2            3      M                    2          Before 2020   \n",
       "3            4      F                    2  2020-08-01 00:00:00   \n",
       "4            5      M                    2  2020-02-01 00:00:00   \n",
       "\n",
       "  Click_to_Open_Rate  Email_Unsubscribe_Ind Email_Unsubscribe_Date  \\\n",
       "0                  0                      0                    NaT   \n",
       "1         >0% to 10%                      1             2020-08-04   \n",
       "2               >25%                      0                    NaT   \n",
       "3                  0                      1             2020-09-02   \n",
       "4                  0                      1             2019-08-31   \n",
       "\n",
       "  Customer_Status Status_Cancel_Date  mean_age  mean_num_email_sent  \\\n",
       "0          active                NaT        29                   14   \n",
       "1          cancel         2020-05-01        49                   14   \n",
       "2          active                NaT        39                   24   \n",
       "3          active                NaT        55                   24   \n",
       "4          active                NaT        29                    0   \n",
       "\n",
       "   open_rate_avg  \n",
       "0            0.0  \n",
       "1           62.5  \n",
       "2           37.5  \n",
       "3            0.0  \n",
       "4            0.0  "
      ]
     },
     "execution_count": 869,
     "metadata": {},
     "output_type": "execute_result"
    }
   ],
   "source": [
    "data.head()"
   ]
  },
  {
   "cell_type": "markdown",
   "id": "9f4b36b8",
   "metadata": {},
   "source": [
    "# Calculationg Average Click to Open Rate for Each Customer"
   ]
  },
  {
   "cell_type": "code",
   "execution_count": 870,
   "id": "e0eb205d",
   "metadata": {},
   "outputs": [
    {
     "data": {
      "text/plain": [
       "array([0, '>0% to 10%', '>25%', '>15% to 25%', '>10% to 15%'],\n",
       "      dtype=object)"
      ]
     },
     "execution_count": 870,
     "metadata": {},
     "output_type": "execute_result"
    }
   ],
   "source": [
    "data['Click_to_Open_Rate'].unique()"
   ]
  },
  {
   "cell_type": "code",
   "execution_count": 871,
   "id": "867e96e2",
   "metadata": {},
   "outputs": [],
   "source": [
    "def click_to_open_rate_average(h):\n",
    "    if h == '>0% to 10%':\n",
    "        return (10)/2\n",
    "    elif h == '>25%':\n",
    "        return (25+30)/2\n",
    "    elif h == '>15% to 25%':\n",
    "        return (15+25)/2\n",
    "    elif h == '>10% to 15%':\n",
    "        return (10+15)/2\n",
    "    elif h == 0:\n",
    "        return 0"
   ]
  },
  {
   "cell_type": "code",
   "execution_count": 872,
   "id": "1a5b436b",
   "metadata": {},
   "outputs": [
    {
     "data": {
      "text/html": [
       "<div>\n",
       "<style scoped>\n",
       "    .dataframe tbody tr th:only-of-type {\n",
       "        vertical-align: middle;\n",
       "    }\n",
       "\n",
       "    .dataframe tbody tr th {\n",
       "        vertical-align: top;\n",
       "    }\n",
       "\n",
       "    .dataframe thead th {\n",
       "        text-align: right;\n",
       "    }\n",
       "</style>\n",
       "<table border=\"1\" class=\"dataframe\">\n",
       "  <thead>\n",
       "    <tr style=\"text-align: right;\">\n",
       "      <th></th>\n",
       "      <th>Customer_ID</th>\n",
       "      <th>Gender</th>\n",
       "      <th>Boxes_Purchased_Cnt</th>\n",
       "      <th>Last_Purchase_Date</th>\n",
       "      <th>Click_to_Open_Rate</th>\n",
       "      <th>Email_Unsubscribe_Ind</th>\n",
       "      <th>Email_Unsubscribe_Date</th>\n",
       "      <th>Customer_Status</th>\n",
       "      <th>Status_Cancel_Date</th>\n",
       "      <th>mean_age</th>\n",
       "      <th>mean_num_email_sent</th>\n",
       "      <th>open_rate_avg</th>\n",
       "      <th>click_to_open_rate_avg</th>\n",
       "    </tr>\n",
       "  </thead>\n",
       "  <tbody>\n",
       "    <tr>\n",
       "      <th>0</th>\n",
       "      <td>1</td>\n",
       "      <td>F</td>\n",
       "      <td>2</td>\n",
       "      <td>2020-11-01 00:00:00</td>\n",
       "      <td>0</td>\n",
       "      <td>0</td>\n",
       "      <td>NaT</td>\n",
       "      <td>active</td>\n",
       "      <td>NaT</td>\n",
       "      <td>29</td>\n",
       "      <td>14</td>\n",
       "      <td>0.0</td>\n",
       "      <td>0.0</td>\n",
       "    </tr>\n",
       "    <tr>\n",
       "      <th>1</th>\n",
       "      <td>2</td>\n",
       "      <td>M</td>\n",
       "      <td>1</td>\n",
       "      <td>2020-05-01 00:00:00</td>\n",
       "      <td>&gt;0% to 10%</td>\n",
       "      <td>1</td>\n",
       "      <td>2020-08-04</td>\n",
       "      <td>cancel</td>\n",
       "      <td>2020-05-01</td>\n",
       "      <td>49</td>\n",
       "      <td>14</td>\n",
       "      <td>62.5</td>\n",
       "      <td>5.0</td>\n",
       "    </tr>\n",
       "    <tr>\n",
       "      <th>2</th>\n",
       "      <td>3</td>\n",
       "      <td>M</td>\n",
       "      <td>2</td>\n",
       "      <td>Before 2020</td>\n",
       "      <td>&gt;25%</td>\n",
       "      <td>0</td>\n",
       "      <td>NaT</td>\n",
       "      <td>active</td>\n",
       "      <td>NaT</td>\n",
       "      <td>39</td>\n",
       "      <td>24</td>\n",
       "      <td>37.5</td>\n",
       "      <td>27.5</td>\n",
       "    </tr>\n",
       "    <tr>\n",
       "      <th>3</th>\n",
       "      <td>4</td>\n",
       "      <td>F</td>\n",
       "      <td>2</td>\n",
       "      <td>2020-08-01 00:00:00</td>\n",
       "      <td>0</td>\n",
       "      <td>1</td>\n",
       "      <td>2020-09-02</td>\n",
       "      <td>active</td>\n",
       "      <td>NaT</td>\n",
       "      <td>55</td>\n",
       "      <td>24</td>\n",
       "      <td>0.0</td>\n",
       "      <td>0.0</td>\n",
       "    </tr>\n",
       "    <tr>\n",
       "      <th>4</th>\n",
       "      <td>5</td>\n",
       "      <td>M</td>\n",
       "      <td>2</td>\n",
       "      <td>2020-02-01 00:00:00</td>\n",
       "      <td>0</td>\n",
       "      <td>1</td>\n",
       "      <td>2019-08-31</td>\n",
       "      <td>active</td>\n",
       "      <td>NaT</td>\n",
       "      <td>29</td>\n",
       "      <td>0</td>\n",
       "      <td>0.0</td>\n",
       "      <td>0.0</td>\n",
       "    </tr>\n",
       "  </tbody>\n",
       "</table>\n",
       "</div>"
      ],
      "text/plain": [
       "   Customer_ID Gender  Boxes_Purchased_Cnt   Last_Purchase_Date  \\\n",
       "0            1      F                    2  2020-11-01 00:00:00   \n",
       "1            2      M                    1  2020-05-01 00:00:00   \n",
       "2            3      M                    2          Before 2020   \n",
       "3            4      F                    2  2020-08-01 00:00:00   \n",
       "4            5      M                    2  2020-02-01 00:00:00   \n",
       "\n",
       "  Click_to_Open_Rate  Email_Unsubscribe_Ind Email_Unsubscribe_Date  \\\n",
       "0                  0                      0                    NaT   \n",
       "1         >0% to 10%                      1             2020-08-04   \n",
       "2               >25%                      0                    NaT   \n",
       "3                  0                      1             2020-09-02   \n",
       "4                  0                      1             2019-08-31   \n",
       "\n",
       "  Customer_Status Status_Cancel_Date  mean_age  mean_num_email_sent  \\\n",
       "0          active                NaT        29                   14   \n",
       "1          cancel         2020-05-01        49                   14   \n",
       "2          active                NaT        39                   24   \n",
       "3          active                NaT        55                   24   \n",
       "4          active                NaT        29                    0   \n",
       "\n",
       "   open_rate_avg  click_to_open_rate_avg  \n",
       "0            0.0                     0.0  \n",
       "1           62.5                     5.0  \n",
       "2           37.5                    27.5  \n",
       "3            0.0                     0.0  \n",
       "4            0.0                     0.0  "
      ]
     },
     "execution_count": 872,
     "metadata": {},
     "output_type": "execute_result"
    }
   ],
   "source": [
    "data['click_to_open_rate_avg'] = data['Click_to_Open_Rate'].apply(click_to_open_rate_average)\n",
    "click_to_open_rate_avg = data['click_to_open_rate_avg']\n",
    "data.head()"
   ]
  },
  {
   "cell_type": "code",
   "execution_count": 873,
   "id": "08ea9bf2",
   "metadata": {
    "scrolled": false
   },
   "outputs": [
    {
     "data": {
      "text/html": [
       "<div>\n",
       "<style scoped>\n",
       "    .dataframe tbody tr th:only-of-type {\n",
       "        vertical-align: middle;\n",
       "    }\n",
       "\n",
       "    .dataframe tbody tr th {\n",
       "        vertical-align: top;\n",
       "    }\n",
       "\n",
       "    .dataframe thead th {\n",
       "        text-align: right;\n",
       "    }\n",
       "</style>\n",
       "<table border=\"1\" class=\"dataframe\">\n",
       "  <thead>\n",
       "    <tr style=\"text-align: right;\">\n",
       "      <th></th>\n",
       "      <th>Customer_ID</th>\n",
       "      <th>Gender</th>\n",
       "      <th>Boxes_Purchased_Cnt</th>\n",
       "      <th>Last_Purchase_Date</th>\n",
       "      <th>Email_Unsubscribe_Ind</th>\n",
       "      <th>Email_Unsubscribe_Date</th>\n",
       "      <th>Customer_Status</th>\n",
       "      <th>Status_Cancel_Date</th>\n",
       "      <th>mean_age</th>\n",
       "      <th>mean_num_email_sent</th>\n",
       "      <th>open_rate_avg</th>\n",
       "      <th>click_to_open_rate_avg</th>\n",
       "    </tr>\n",
       "  </thead>\n",
       "  <tbody>\n",
       "    <tr>\n",
       "      <th>0</th>\n",
       "      <td>1</td>\n",
       "      <td>F</td>\n",
       "      <td>2</td>\n",
       "      <td>2020-11-01 00:00:00</td>\n",
       "      <td>0</td>\n",
       "      <td>NaT</td>\n",
       "      <td>active</td>\n",
       "      <td>NaT</td>\n",
       "      <td>29</td>\n",
       "      <td>14</td>\n",
       "      <td>0.0</td>\n",
       "      <td>0.0</td>\n",
       "    </tr>\n",
       "    <tr>\n",
       "      <th>1</th>\n",
       "      <td>2</td>\n",
       "      <td>M</td>\n",
       "      <td>1</td>\n",
       "      <td>2020-05-01 00:00:00</td>\n",
       "      <td>1</td>\n",
       "      <td>2020-08-04</td>\n",
       "      <td>cancel</td>\n",
       "      <td>2020-05-01</td>\n",
       "      <td>49</td>\n",
       "      <td>14</td>\n",
       "      <td>62.5</td>\n",
       "      <td>5.0</td>\n",
       "    </tr>\n",
       "    <tr>\n",
       "      <th>2</th>\n",
       "      <td>3</td>\n",
       "      <td>M</td>\n",
       "      <td>2</td>\n",
       "      <td>Before 2020</td>\n",
       "      <td>0</td>\n",
       "      <td>NaT</td>\n",
       "      <td>active</td>\n",
       "      <td>NaT</td>\n",
       "      <td>39</td>\n",
       "      <td>24</td>\n",
       "      <td>37.5</td>\n",
       "      <td>27.5</td>\n",
       "    </tr>\n",
       "    <tr>\n",
       "      <th>3</th>\n",
       "      <td>4</td>\n",
       "      <td>F</td>\n",
       "      <td>2</td>\n",
       "      <td>2020-08-01 00:00:00</td>\n",
       "      <td>1</td>\n",
       "      <td>2020-09-02</td>\n",
       "      <td>active</td>\n",
       "      <td>NaT</td>\n",
       "      <td>55</td>\n",
       "      <td>24</td>\n",
       "      <td>0.0</td>\n",
       "      <td>0.0</td>\n",
       "    </tr>\n",
       "    <tr>\n",
       "      <th>4</th>\n",
       "      <td>5</td>\n",
       "      <td>M</td>\n",
       "      <td>2</td>\n",
       "      <td>2020-02-01 00:00:00</td>\n",
       "      <td>1</td>\n",
       "      <td>2019-08-31</td>\n",
       "      <td>active</td>\n",
       "      <td>NaT</td>\n",
       "      <td>29</td>\n",
       "      <td>0</td>\n",
       "      <td>0.0</td>\n",
       "      <td>0.0</td>\n",
       "    </tr>\n",
       "  </tbody>\n",
       "</table>\n",
       "</div>"
      ],
      "text/plain": [
       "   Customer_ID Gender  Boxes_Purchased_Cnt   Last_Purchase_Date  \\\n",
       "0            1      F                    2  2020-11-01 00:00:00   \n",
       "1            2      M                    1  2020-05-01 00:00:00   \n",
       "2            3      M                    2          Before 2020   \n",
       "3            4      F                    2  2020-08-01 00:00:00   \n",
       "4            5      M                    2  2020-02-01 00:00:00   \n",
       "\n",
       "   Email_Unsubscribe_Ind Email_Unsubscribe_Date Customer_Status  \\\n",
       "0                      0                    NaT          active   \n",
       "1                      1             2020-08-04          cancel   \n",
       "2                      0                    NaT          active   \n",
       "3                      1             2020-09-02          active   \n",
       "4                      1             2019-08-31          active   \n",
       "\n",
       "  Status_Cancel_Date  mean_age  mean_num_email_sent  open_rate_avg  \\\n",
       "0                NaT        29                   14            0.0   \n",
       "1         2020-05-01        49                   14           62.5   \n",
       "2                NaT        39                   24           37.5   \n",
       "3                NaT        55                   24            0.0   \n",
       "4                NaT        29                    0            0.0   \n",
       "\n",
       "   click_to_open_rate_avg  \n",
       "0                     0.0  \n",
       "1                     5.0  \n",
       "2                    27.5  \n",
       "3                     0.0  \n",
       "4                     0.0  "
      ]
     },
     "execution_count": 873,
     "metadata": {},
     "output_type": "execute_result"
    }
   ],
   "source": [
    "data.drop(['Click_to_Open_Rate'], axis = 1, inplace = True)\n",
    "data.head()"
   ]
  },
  {
   "cell_type": "markdown",
   "id": "22849249",
   "metadata": {},
   "source": [
    "# Purchases in 2020"
   ]
  },
  {
   "cell_type": "markdown",
   "id": "fa8fb204",
   "metadata": {},
   "source": [
    "Now we create a new boolean feature based on the purchases in 2020. If the customer made no purchases in 2020, it will be shown\n",
    "with 0 and otherwise with 1."
   ]
  },
  {
   "cell_type": "code",
   "execution_count": 874,
   "id": "18b7fdd7",
   "metadata": {},
   "outputs": [
    {
     "data": {
      "text/plain": [
       "array([datetime.datetime(2020, 11, 1, 0, 0),\n",
       "       datetime.datetime(2020, 5, 1, 0, 0), 'Before 2020',\n",
       "       datetime.datetime(2020, 8, 1, 0, 0),\n",
       "       datetime.datetime(2020, 2, 1, 0, 0),\n",
       "       datetime.datetime(2020, 12, 1, 0, 0),\n",
       "       datetime.datetime(2020, 3, 1, 0, 0),\n",
       "       datetime.datetime(2020, 7, 1, 0, 0),\n",
       "       datetime.datetime(2020, 9, 1, 0, 0),\n",
       "       datetime.datetime(2020, 1, 1, 0, 0),\n",
       "       datetime.datetime(2020, 4, 1, 0, 0),\n",
       "       datetime.datetime(2020, 10, 1, 0, 0),\n",
       "       datetime.datetime(2020, 6, 1, 0, 0)], dtype=object)"
      ]
     },
     "execution_count": 874,
     "metadata": {},
     "output_type": "execute_result"
    }
   ],
   "source": [
    "data['Last_Purchase_Date'].unique()"
   ]
  },
  {
   "cell_type": "code",
   "execution_count": 875,
   "id": "5cdefe4f",
   "metadata": {},
   "outputs": [
    {
     "name": "stdout",
     "output_type": "stream",
     "text": [
      "Customer_ID                        int64\n",
      "Gender                            object\n",
      "Boxes_Purchased_Cnt                int64\n",
      "Last_Purchase_Date                object\n",
      "Email_Unsubscribe_Ind              int64\n",
      "Email_Unsubscribe_Date    datetime64[ns]\n",
      "Customer_Status                   object\n",
      "Status_Cancel_Date        datetime64[ns]\n",
      "mean_age                           int64\n",
      "mean_num_email_sent                int64\n",
      "open_rate_avg                    float64\n",
      "click_to_open_rate_avg           float64\n",
      "dtype: object\n"
     ]
    }
   ],
   "source": [
    "data['Last_Purchase_Date'].dtype\n",
    "print(data.dtypes)"
   ]
  },
  {
   "cell_type": "code",
   "execution_count": 876,
   "id": "af4dbc5a",
   "metadata": {},
   "outputs": [],
   "source": [
    "data.Last_Purchase_Date[data.Last_Purchase_Date == 'Before 2020'] = '2019-01-01 00:00:00'\n",
    "\n"
   ]
  },
  {
   "cell_type": "code",
   "execution_count": 877,
   "id": "6ef425fe",
   "metadata": {},
   "outputs": [
    {
     "data": {
      "text/html": [
       "<div>\n",
       "<style scoped>\n",
       "    .dataframe tbody tr th:only-of-type {\n",
       "        vertical-align: middle;\n",
       "    }\n",
       "\n",
       "    .dataframe tbody tr th {\n",
       "        vertical-align: top;\n",
       "    }\n",
       "\n",
       "    .dataframe thead th {\n",
       "        text-align: right;\n",
       "    }\n",
       "</style>\n",
       "<table border=\"1\" class=\"dataframe\">\n",
       "  <thead>\n",
       "    <tr style=\"text-align: right;\">\n",
       "      <th></th>\n",
       "      <th>Customer_ID</th>\n",
       "      <th>Gender</th>\n",
       "      <th>Boxes_Purchased_Cnt</th>\n",
       "      <th>Last_Purchase_Date</th>\n",
       "      <th>Email_Unsubscribe_Ind</th>\n",
       "      <th>Email_Unsubscribe_Date</th>\n",
       "      <th>Customer_Status</th>\n",
       "      <th>Status_Cancel_Date</th>\n",
       "      <th>mean_age</th>\n",
       "      <th>mean_num_email_sent</th>\n",
       "      <th>open_rate_avg</th>\n",
       "      <th>click_to_open_rate_avg</th>\n",
       "    </tr>\n",
       "  </thead>\n",
       "  <tbody>\n",
       "    <tr>\n",
       "      <th>0</th>\n",
       "      <td>1</td>\n",
       "      <td>F</td>\n",
       "      <td>2</td>\n",
       "      <td>2020-11-01</td>\n",
       "      <td>0</td>\n",
       "      <td>NaT</td>\n",
       "      <td>active</td>\n",
       "      <td>NaT</td>\n",
       "      <td>29</td>\n",
       "      <td>14</td>\n",
       "      <td>0.0</td>\n",
       "      <td>0.0</td>\n",
       "    </tr>\n",
       "    <tr>\n",
       "      <th>1</th>\n",
       "      <td>2</td>\n",
       "      <td>M</td>\n",
       "      <td>1</td>\n",
       "      <td>2020-05-01</td>\n",
       "      <td>1</td>\n",
       "      <td>2020-08-04</td>\n",
       "      <td>cancel</td>\n",
       "      <td>2020-05-01</td>\n",
       "      <td>49</td>\n",
       "      <td>14</td>\n",
       "      <td>62.5</td>\n",
       "      <td>5.0</td>\n",
       "    </tr>\n",
       "    <tr>\n",
       "      <th>2</th>\n",
       "      <td>3</td>\n",
       "      <td>M</td>\n",
       "      <td>2</td>\n",
       "      <td>2019-01-01</td>\n",
       "      <td>0</td>\n",
       "      <td>NaT</td>\n",
       "      <td>active</td>\n",
       "      <td>NaT</td>\n",
       "      <td>39</td>\n",
       "      <td>24</td>\n",
       "      <td>37.5</td>\n",
       "      <td>27.5</td>\n",
       "    </tr>\n",
       "    <tr>\n",
       "      <th>3</th>\n",
       "      <td>4</td>\n",
       "      <td>F</td>\n",
       "      <td>2</td>\n",
       "      <td>2020-08-01</td>\n",
       "      <td>1</td>\n",
       "      <td>2020-09-02</td>\n",
       "      <td>active</td>\n",
       "      <td>NaT</td>\n",
       "      <td>55</td>\n",
       "      <td>24</td>\n",
       "      <td>0.0</td>\n",
       "      <td>0.0</td>\n",
       "    </tr>\n",
       "    <tr>\n",
       "      <th>4</th>\n",
       "      <td>5</td>\n",
       "      <td>M</td>\n",
       "      <td>2</td>\n",
       "      <td>2020-02-01</td>\n",
       "      <td>1</td>\n",
       "      <td>2019-08-31</td>\n",
       "      <td>active</td>\n",
       "      <td>NaT</td>\n",
       "      <td>29</td>\n",
       "      <td>0</td>\n",
       "      <td>0.0</td>\n",
       "      <td>0.0</td>\n",
       "    </tr>\n",
       "  </tbody>\n",
       "</table>\n",
       "</div>"
      ],
      "text/plain": [
       "   Customer_ID Gender  Boxes_Purchased_Cnt Last_Purchase_Date  \\\n",
       "0            1      F                    2         2020-11-01   \n",
       "1            2      M                    1         2020-05-01   \n",
       "2            3      M                    2         2019-01-01   \n",
       "3            4      F                    2         2020-08-01   \n",
       "4            5      M                    2         2020-02-01   \n",
       "\n",
       "   Email_Unsubscribe_Ind Email_Unsubscribe_Date Customer_Status  \\\n",
       "0                      0                    NaT          active   \n",
       "1                      1             2020-08-04          cancel   \n",
       "2                      0                    NaT          active   \n",
       "3                      1             2020-09-02          active   \n",
       "4                      1             2019-08-31          active   \n",
       "\n",
       "  Status_Cancel_Date  mean_age  mean_num_email_sent  open_rate_avg  \\\n",
       "0                NaT        29                   14            0.0   \n",
       "1         2020-05-01        49                   14           62.5   \n",
       "2                NaT        39                   24           37.5   \n",
       "3                NaT        55                   24            0.0   \n",
       "4                NaT        29                    0            0.0   \n",
       "\n",
       "   click_to_open_rate_avg  \n",
       "0                     0.0  \n",
       "1                     5.0  \n",
       "2                    27.5  \n",
       "3                     0.0  \n",
       "4                     0.0  "
      ]
     },
     "execution_count": 877,
     "metadata": {},
     "output_type": "execute_result"
    }
   ],
   "source": [
    "data['Last_Purchase_Date'] = pd.to_datetime(data['Last_Purchase_Date'])\n",
    "data.head()"
   ]
  },
  {
   "cell_type": "code",
   "execution_count": 878,
   "id": "90eeb347",
   "metadata": {
    "scrolled": true
   },
   "outputs": [
    {
     "name": "stdout",
     "output_type": "stream",
     "text": [
      "Customer_ID                        int64\n",
      "Gender                            object\n",
      "Boxes_Purchased_Cnt                int64\n",
      "Last_Purchase_Date        datetime64[ns]\n",
      "Email_Unsubscribe_Ind              int64\n",
      "Email_Unsubscribe_Date    datetime64[ns]\n",
      "Customer_Status                   object\n",
      "Status_Cancel_Date        datetime64[ns]\n",
      "mean_age                           int64\n",
      "mean_num_email_sent                int64\n",
      "open_rate_avg                    float64\n",
      "click_to_open_rate_avg           float64\n",
      "dtype: object\n"
     ]
    }
   ],
   "source": [
    "print(data.dtypes)\n"
   ]
  },
  {
   "cell_type": "code",
   "execution_count": null,
   "id": "176a3c6f",
   "metadata": {},
   "outputs": [],
   "source": []
  },
  {
   "cell_type": "code",
   "execution_count": 879,
   "id": "010f8140",
   "metadata": {},
   "outputs": [],
   "source": [
    "import datetime as dt\n",
    "def purchase(s): \n",
    "    if s.year == 2020:\n",
    "        return 1\n",
    "    else:\n",
    "        return 0\n",
    "    "
   ]
  },
  {
   "cell_type": "code",
   "execution_count": 880,
   "id": "451ee77c",
   "metadata": {},
   "outputs": [
    {
     "data": {
      "text/html": [
       "<div>\n",
       "<style scoped>\n",
       "    .dataframe tbody tr th:only-of-type {\n",
       "        vertical-align: middle;\n",
       "    }\n",
       "\n",
       "    .dataframe tbody tr th {\n",
       "        vertical-align: top;\n",
       "    }\n",
       "\n",
       "    .dataframe thead th {\n",
       "        text-align: right;\n",
       "    }\n",
       "</style>\n",
       "<table border=\"1\" class=\"dataframe\">\n",
       "  <thead>\n",
       "    <tr style=\"text-align: right;\">\n",
       "      <th></th>\n",
       "      <th>Customer_ID</th>\n",
       "      <th>Gender</th>\n",
       "      <th>Boxes_Purchased_Cnt</th>\n",
       "      <th>Last_Purchase_Date</th>\n",
       "      <th>Email_Unsubscribe_Ind</th>\n",
       "      <th>Email_Unsubscribe_Date</th>\n",
       "      <th>Customer_Status</th>\n",
       "      <th>Status_Cancel_Date</th>\n",
       "      <th>mean_age</th>\n",
       "      <th>mean_num_email_sent</th>\n",
       "      <th>open_rate_avg</th>\n",
       "      <th>click_to_open_rate_avg</th>\n",
       "      <th>Purchase_in_2020</th>\n",
       "    </tr>\n",
       "  </thead>\n",
       "  <tbody>\n",
       "    <tr>\n",
       "      <th>0</th>\n",
       "      <td>1</td>\n",
       "      <td>F</td>\n",
       "      <td>2</td>\n",
       "      <td>2020-11-01</td>\n",
       "      <td>0</td>\n",
       "      <td>NaT</td>\n",
       "      <td>active</td>\n",
       "      <td>NaT</td>\n",
       "      <td>29</td>\n",
       "      <td>14</td>\n",
       "      <td>0.0</td>\n",
       "      <td>0.0</td>\n",
       "      <td>1</td>\n",
       "    </tr>\n",
       "    <tr>\n",
       "      <th>1</th>\n",
       "      <td>2</td>\n",
       "      <td>M</td>\n",
       "      <td>1</td>\n",
       "      <td>2020-05-01</td>\n",
       "      <td>1</td>\n",
       "      <td>2020-08-04</td>\n",
       "      <td>cancel</td>\n",
       "      <td>2020-05-01</td>\n",
       "      <td>49</td>\n",
       "      <td>14</td>\n",
       "      <td>62.5</td>\n",
       "      <td>5.0</td>\n",
       "      <td>1</td>\n",
       "    </tr>\n",
       "    <tr>\n",
       "      <th>2</th>\n",
       "      <td>3</td>\n",
       "      <td>M</td>\n",
       "      <td>2</td>\n",
       "      <td>2019-01-01</td>\n",
       "      <td>0</td>\n",
       "      <td>NaT</td>\n",
       "      <td>active</td>\n",
       "      <td>NaT</td>\n",
       "      <td>39</td>\n",
       "      <td>24</td>\n",
       "      <td>37.5</td>\n",
       "      <td>27.5</td>\n",
       "      <td>0</td>\n",
       "    </tr>\n",
       "    <tr>\n",
       "      <th>3</th>\n",
       "      <td>4</td>\n",
       "      <td>F</td>\n",
       "      <td>2</td>\n",
       "      <td>2020-08-01</td>\n",
       "      <td>1</td>\n",
       "      <td>2020-09-02</td>\n",
       "      <td>active</td>\n",
       "      <td>NaT</td>\n",
       "      <td>55</td>\n",
       "      <td>24</td>\n",
       "      <td>0.0</td>\n",
       "      <td>0.0</td>\n",
       "      <td>1</td>\n",
       "    </tr>\n",
       "    <tr>\n",
       "      <th>4</th>\n",
       "      <td>5</td>\n",
       "      <td>M</td>\n",
       "      <td>2</td>\n",
       "      <td>2020-02-01</td>\n",
       "      <td>1</td>\n",
       "      <td>2019-08-31</td>\n",
       "      <td>active</td>\n",
       "      <td>NaT</td>\n",
       "      <td>29</td>\n",
       "      <td>0</td>\n",
       "      <td>0.0</td>\n",
       "      <td>0.0</td>\n",
       "      <td>1</td>\n",
       "    </tr>\n",
       "  </tbody>\n",
       "</table>\n",
       "</div>"
      ],
      "text/plain": [
       "   Customer_ID Gender  Boxes_Purchased_Cnt Last_Purchase_Date  \\\n",
       "0            1      F                    2         2020-11-01   \n",
       "1            2      M                    1         2020-05-01   \n",
       "2            3      M                    2         2019-01-01   \n",
       "3            4      F                    2         2020-08-01   \n",
       "4            5      M                    2         2020-02-01   \n",
       "\n",
       "   Email_Unsubscribe_Ind Email_Unsubscribe_Date Customer_Status  \\\n",
       "0                      0                    NaT          active   \n",
       "1                      1             2020-08-04          cancel   \n",
       "2                      0                    NaT          active   \n",
       "3                      1             2020-09-02          active   \n",
       "4                      1             2019-08-31          active   \n",
       "\n",
       "  Status_Cancel_Date  mean_age  mean_num_email_sent  open_rate_avg  \\\n",
       "0                NaT        29                   14            0.0   \n",
       "1         2020-05-01        49                   14           62.5   \n",
       "2                NaT        39                   24           37.5   \n",
       "3                NaT        55                   24            0.0   \n",
       "4                NaT        29                    0            0.0   \n",
       "\n",
       "   click_to_open_rate_avg  Purchase_in_2020  \n",
       "0                     0.0                 1  \n",
       "1                     5.0                 1  \n",
       "2                    27.5                 0  \n",
       "3                     0.0                 1  \n",
       "4                     0.0                 1  "
      ]
     },
     "execution_count": 880,
     "metadata": {},
     "output_type": "execute_result"
    }
   ],
   "source": [
    "data['Purchase_in_2020'] = data['Last_Purchase_Date'].apply(purchase)\n",
    "purchase_in_2020 = data['Purchase_in_2020']\n",
    "data.head()"
   ]
  },
  {
   "cell_type": "code",
   "execution_count": 881,
   "id": "a36af637",
   "metadata": {},
   "outputs": [
    {
     "data": {
      "text/html": [
       "<div>\n",
       "<style scoped>\n",
       "    .dataframe tbody tr th:only-of-type {\n",
       "        vertical-align: middle;\n",
       "    }\n",
       "\n",
       "    .dataframe tbody tr th {\n",
       "        vertical-align: top;\n",
       "    }\n",
       "\n",
       "    .dataframe thead th {\n",
       "        text-align: right;\n",
       "    }\n",
       "</style>\n",
       "<table border=\"1\" class=\"dataframe\">\n",
       "  <thead>\n",
       "    <tr style=\"text-align: right;\">\n",
       "      <th></th>\n",
       "      <th>Customer_ID</th>\n",
       "      <th>Gender</th>\n",
       "      <th>Boxes_Purchased_Cnt</th>\n",
       "      <th>Email_Unsubscribe_Ind</th>\n",
       "      <th>Email_Unsubscribe_Date</th>\n",
       "      <th>Customer_Status</th>\n",
       "      <th>Status_Cancel_Date</th>\n",
       "      <th>mean_age</th>\n",
       "      <th>mean_num_email_sent</th>\n",
       "      <th>open_rate_avg</th>\n",
       "      <th>click_to_open_rate_avg</th>\n",
       "      <th>Purchase_in_2020</th>\n",
       "    </tr>\n",
       "  </thead>\n",
       "  <tbody>\n",
       "    <tr>\n",
       "      <th>0</th>\n",
       "      <td>1</td>\n",
       "      <td>F</td>\n",
       "      <td>2</td>\n",
       "      <td>0</td>\n",
       "      <td>NaT</td>\n",
       "      <td>active</td>\n",
       "      <td>NaT</td>\n",
       "      <td>29</td>\n",
       "      <td>14</td>\n",
       "      <td>0.0</td>\n",
       "      <td>0.0</td>\n",
       "      <td>1</td>\n",
       "    </tr>\n",
       "    <tr>\n",
       "      <th>1</th>\n",
       "      <td>2</td>\n",
       "      <td>M</td>\n",
       "      <td>1</td>\n",
       "      <td>1</td>\n",
       "      <td>2020-08-04</td>\n",
       "      <td>cancel</td>\n",
       "      <td>2020-05-01</td>\n",
       "      <td>49</td>\n",
       "      <td>14</td>\n",
       "      <td>62.5</td>\n",
       "      <td>5.0</td>\n",
       "      <td>1</td>\n",
       "    </tr>\n",
       "    <tr>\n",
       "      <th>2</th>\n",
       "      <td>3</td>\n",
       "      <td>M</td>\n",
       "      <td>2</td>\n",
       "      <td>0</td>\n",
       "      <td>NaT</td>\n",
       "      <td>active</td>\n",
       "      <td>NaT</td>\n",
       "      <td>39</td>\n",
       "      <td>24</td>\n",
       "      <td>37.5</td>\n",
       "      <td>27.5</td>\n",
       "      <td>0</td>\n",
       "    </tr>\n",
       "    <tr>\n",
       "      <th>3</th>\n",
       "      <td>4</td>\n",
       "      <td>F</td>\n",
       "      <td>2</td>\n",
       "      <td>1</td>\n",
       "      <td>2020-09-02</td>\n",
       "      <td>active</td>\n",
       "      <td>NaT</td>\n",
       "      <td>55</td>\n",
       "      <td>24</td>\n",
       "      <td>0.0</td>\n",
       "      <td>0.0</td>\n",
       "      <td>1</td>\n",
       "    </tr>\n",
       "    <tr>\n",
       "      <th>4</th>\n",
       "      <td>5</td>\n",
       "      <td>M</td>\n",
       "      <td>2</td>\n",
       "      <td>1</td>\n",
       "      <td>2019-08-31</td>\n",
       "      <td>active</td>\n",
       "      <td>NaT</td>\n",
       "      <td>29</td>\n",
       "      <td>0</td>\n",
       "      <td>0.0</td>\n",
       "      <td>0.0</td>\n",
       "      <td>1</td>\n",
       "    </tr>\n",
       "  </tbody>\n",
       "</table>\n",
       "</div>"
      ],
      "text/plain": [
       "   Customer_ID Gender  Boxes_Purchased_Cnt  Email_Unsubscribe_Ind  \\\n",
       "0            1      F                    2                      0   \n",
       "1            2      M                    1                      1   \n",
       "2            3      M                    2                      0   \n",
       "3            4      F                    2                      1   \n",
       "4            5      M                    2                      1   \n",
       "\n",
       "  Email_Unsubscribe_Date Customer_Status Status_Cancel_Date  mean_age  \\\n",
       "0                    NaT          active                NaT        29   \n",
       "1             2020-08-04          cancel         2020-05-01        49   \n",
       "2                    NaT          active                NaT        39   \n",
       "3             2020-09-02          active                NaT        55   \n",
       "4             2019-08-31          active                NaT        29   \n",
       "\n",
       "   mean_num_email_sent  open_rate_avg  click_to_open_rate_avg  \\\n",
       "0                   14            0.0                     0.0   \n",
       "1                   14           62.5                     5.0   \n",
       "2                   24           37.5                    27.5   \n",
       "3                   24            0.0                     0.0   \n",
       "4                    0            0.0                     0.0   \n",
       "\n",
       "   Purchase_in_2020  \n",
       "0                 1  \n",
       "1                 1  \n",
       "2                 0  \n",
       "3                 1  \n",
       "4                 1  "
      ]
     },
     "execution_count": 881,
     "metadata": {},
     "output_type": "execute_result"
    }
   ],
   "source": [
    "data.drop(['Last_Purchase_Date'], axis = 1, inplace = True)\n",
    "data.head()"
   ]
  },
  {
   "cell_type": "code",
   "execution_count": 882,
   "id": "4341eb07",
   "metadata": {},
   "outputs": [
    {
     "data": {
      "text/plain": [
       "3476"
      ]
     },
     "execution_count": 882,
     "metadata": {},
     "output_type": "execute_result"
    }
   ],
   "source": [
    "data['Email_Unsubscribe_Date'].isnull().sum()"
   ]
  },
  {
   "cell_type": "code",
   "execution_count": 883,
   "id": "2eaac5b3",
   "metadata": {},
   "outputs": [
    {
     "data": {
      "text/plain": [
       "3627"
      ]
     },
     "execution_count": 883,
     "metadata": {},
     "output_type": "execute_result"
    }
   ],
   "source": [
    "data['Status_Cancel_Date'].isnull().sum()"
   ]
  },
  {
   "cell_type": "markdown",
   "id": "ffa052a4",
   "metadata": {},
   "source": [
    "It looks like that we have around 87% missing values in the column Email_Unsubscribe_Date and about 90% in Status_Cancel_Date. We can drop these columns and do the analysis based on the rest of the data."
   ]
  },
  {
   "cell_type": "code",
   "execution_count": 884,
   "id": "b6f34e7c",
   "metadata": {},
   "outputs": [],
   "source": [
    "#data.to_csv(r'C:\\Users\\Simas\\Desktop\\data.csv')"
   ]
  },
  {
   "cell_type": "code",
   "execution_count": 885,
   "id": "8783f236",
   "metadata": {},
   "outputs": [
    {
     "data": {
      "text/html": [
       "<div>\n",
       "<style scoped>\n",
       "    .dataframe tbody tr th:only-of-type {\n",
       "        vertical-align: middle;\n",
       "    }\n",
       "\n",
       "    .dataframe tbody tr th {\n",
       "        vertical-align: top;\n",
       "    }\n",
       "\n",
       "    .dataframe thead th {\n",
       "        text-align: right;\n",
       "    }\n",
       "</style>\n",
       "<table border=\"1\" class=\"dataframe\">\n",
       "  <thead>\n",
       "    <tr style=\"text-align: right;\">\n",
       "      <th></th>\n",
       "      <th>Customer_ID</th>\n",
       "      <th>Gender</th>\n",
       "      <th>Boxes_Purchased_Cnt</th>\n",
       "      <th>Email_Unsubscribe_Ind</th>\n",
       "      <th>Customer_Status</th>\n",
       "      <th>mean_age</th>\n",
       "      <th>mean_num_email_sent</th>\n",
       "      <th>open_rate_avg</th>\n",
       "      <th>click_to_open_rate_avg</th>\n",
       "      <th>Purchase_in_2020</th>\n",
       "    </tr>\n",
       "  </thead>\n",
       "  <tbody>\n",
       "    <tr>\n",
       "      <th>0</th>\n",
       "      <td>1</td>\n",
       "      <td>F</td>\n",
       "      <td>2</td>\n",
       "      <td>0</td>\n",
       "      <td>active</td>\n",
       "      <td>29</td>\n",
       "      <td>14</td>\n",
       "      <td>0.0</td>\n",
       "      <td>0.0</td>\n",
       "      <td>1</td>\n",
       "    </tr>\n",
       "    <tr>\n",
       "      <th>1</th>\n",
       "      <td>2</td>\n",
       "      <td>M</td>\n",
       "      <td>1</td>\n",
       "      <td>1</td>\n",
       "      <td>cancel</td>\n",
       "      <td>49</td>\n",
       "      <td>14</td>\n",
       "      <td>62.5</td>\n",
       "      <td>5.0</td>\n",
       "      <td>1</td>\n",
       "    </tr>\n",
       "    <tr>\n",
       "      <th>2</th>\n",
       "      <td>3</td>\n",
       "      <td>M</td>\n",
       "      <td>2</td>\n",
       "      <td>0</td>\n",
       "      <td>active</td>\n",
       "      <td>39</td>\n",
       "      <td>24</td>\n",
       "      <td>37.5</td>\n",
       "      <td>27.5</td>\n",
       "      <td>0</td>\n",
       "    </tr>\n",
       "    <tr>\n",
       "      <th>3</th>\n",
       "      <td>4</td>\n",
       "      <td>F</td>\n",
       "      <td>2</td>\n",
       "      <td>1</td>\n",
       "      <td>active</td>\n",
       "      <td>55</td>\n",
       "      <td>24</td>\n",
       "      <td>0.0</td>\n",
       "      <td>0.0</td>\n",
       "      <td>1</td>\n",
       "    </tr>\n",
       "    <tr>\n",
       "      <th>4</th>\n",
       "      <td>5</td>\n",
       "      <td>M</td>\n",
       "      <td>2</td>\n",
       "      <td>1</td>\n",
       "      <td>active</td>\n",
       "      <td>29</td>\n",
       "      <td>0</td>\n",
       "      <td>0.0</td>\n",
       "      <td>0.0</td>\n",
       "      <td>1</td>\n",
       "    </tr>\n",
       "  </tbody>\n",
       "</table>\n",
       "</div>"
      ],
      "text/plain": [
       "   Customer_ID Gender  Boxes_Purchased_Cnt  Email_Unsubscribe_Ind  \\\n",
       "0            1      F                    2                      0   \n",
       "1            2      M                    1                      1   \n",
       "2            3      M                    2                      0   \n",
       "3            4      F                    2                      1   \n",
       "4            5      M                    2                      1   \n",
       "\n",
       "  Customer_Status  mean_age  mean_num_email_sent  open_rate_avg  \\\n",
       "0          active        29                   14            0.0   \n",
       "1          cancel        49                   14           62.5   \n",
       "2          active        39                   24           37.5   \n",
       "3          active        55                   24            0.0   \n",
       "4          active        29                    0            0.0   \n",
       "\n",
       "   click_to_open_rate_avg  Purchase_in_2020  \n",
       "0                     0.0                 1  \n",
       "1                     5.0                 1  \n",
       "2                    27.5                 0  \n",
       "3                     0.0                 1  \n",
       "4                     0.0                 1  "
      ]
     },
     "execution_count": 885,
     "metadata": {},
     "output_type": "execute_result"
    }
   ],
   "source": [
    "data.drop(['Email_Unsubscribe_Date'], axis = 1, inplace = True)\n",
    "data.drop(['Status_Cancel_Date'], axis = 1, inplace = True)\n",
    "\n",
    "data.head()"
   ]
  },
  {
   "cell_type": "code",
   "execution_count": 886,
   "id": "47e843ae",
   "metadata": {},
   "outputs": [],
   "source": [
    "data.to_csv(r'C:\\Users\\Simas\\Desktop\\data.csv')"
   ]
  },
  {
   "cell_type": "code",
   "execution_count": null,
   "id": "e41b5fd2",
   "metadata": {},
   "outputs": [],
   "source": []
  },
  {
   "cell_type": "markdown",
   "id": "2319f2bb",
   "metadata": {},
   "source": [
    "# Average conversion rate for opening the email and clicking the link in the email¶ based on customer age\n"
   ]
  },
  {
   "cell_type": "code",
   "execution_count": 887,
   "id": "89d9ff5d",
   "metadata": {},
   "outputs": [
    {
     "data": {
      "image/png": "[encoded data removed]",
      "text/plain": [
       "<Figure size 1008x576 with 1 Axes>"
      ]
     },
     "metadata": {
      "needs_background": "light"
     },
     "output_type": "display_data"
    },
    {
     "data": {
      "image/png": "[encoded data removed]",
      "text/plain": [
       "<Figure size 1008x576 with 1 Axes>"
      ]
     },
     "metadata": {
      "needs_background": "light"
     },
     "output_type": "display_data"
    }
   ],
   "source": [
    "data.groupby('mean_age')['open_rate_avg'].mean().plot.bar(color = 'b')\n",
    "data.groupby('mean_age')['click_to_open_rate_avg'].mean().plot.bar(color = 'r')\n",
    "plt.legend()\n",
    "plt.show()\n",
    "x = data.groupby('mean_age')['Customer_ID'].count() #/len(data)\n",
    "x.plot.bar()\n",
    "plt.title('Age Distribution')\n",
    "plt.tight_layout()\n"
   ]
  },
  {
   "cell_type": "markdown",
   "id": "965cf360",
   "metadata": {},
   "source": [
    "# Average conversion rate for opening the email and clicking the link in the email¶ based on number of boxes purchased"
   ]
  },
  {
   "cell_type": "code",
   "execution_count": 888,
   "id": "0d2d0943",
   "metadata": {},
   "outputs": [
    {
     "data": {
      "image/png": "[encoded data removed]",
      "text/plain": [
       "<Figure size 1008x576 with 1 Axes>"
      ]
     },
     "metadata": {
      "needs_background": "light"
     },
     "output_type": "display_data"
    },
    {
     "data": {
      "image/png": "[encoded data removed]",
      "text/plain": [
       "<Figure size 1008x576 with 1 Axes>"
      ]
     },
     "metadata": {
      "needs_background": "light"
     },
     "output_type": "display_data"
    }
   ],
   "source": [
    "\n",
    "y = data.groupby('Boxes_Purchased_Cnt')['click_to_open_rate_avg'].sum()\n",
    "x = data.groupby('Boxes_Purchased_Cnt')['open_rate_avg'].sum()\n",
    "\n",
    "x.plot.bar(color = 'r',alpha = 0.3)\n",
    "y.plot.bar(color = 'b',alpha = 0.9)\n",
    "plt.legend()\n",
    "plt.bar(x,height = 10)\n",
    "plt.title('Boxes Purchased - opened vs clicked')\n",
    "plt.show()\n",
    "x = data.groupby('Boxes_Purchased_Cnt')['Customer_ID'].count() #/len(data)\n",
    "x.plot.bar()\n",
    "plt.title('Purchases Distribution')\n",
    "plt.tight_layout()\n",
    "\n"
   ]
  },
  {
   "cell_type": "markdown",
   "id": "d06ea537",
   "metadata": {},
   "source": [
    "# Conversion Rate based on the number of emails sent"
   ]
  },
  {
   "cell_type": "code",
   "execution_count": 889,
   "id": "5508c3cd",
   "metadata": {},
   "outputs": [
    {
     "data": {
      "image/png": "[encoded data removed]",
      "text/plain": [
       "<Figure size 1008x576 with 1 Axes>"
      ]
     },
     "metadata": {
      "needs_background": "light"
     },
     "output_type": "display_data"
    },
    {
     "data": {
      "image/png": "[encoded data removed]",
      "text/plain": [
       "<Figure size 1008x576 with 1 Axes>"
      ]
     },
     "metadata": {
      "needs_background": "light"
     },
     "output_type": "display_data"
    }
   ],
   "source": [
    "data.groupby('mean_num_email_sent')['open_rate_avg'].mean().plot.bar(color = 'b')\n",
    "data.groupby('mean_num_email_sent')['click_to_open_rate_avg'].mean().plot.bar(color = 'r')\n",
    "plt.legend()\n",
    "plt.show()\n",
    "x = data.groupby('mean_num_email_sent')['Customer_ID'].count() #/len(data)\n",
    "x.plot.bar()\n",
    "plt.title('Number of Emails Distribution')\n",
    "plt.tight_layout()"
   ]
  },
  {
   "cell_type": "markdown",
   "id": "d88d9085",
   "metadata": {},
   "source": [
    "# Conversion rate by gender"
   ]
  },
  {
   "cell_type": "code",
   "execution_count": 890,
   "id": "83500c60",
   "metadata": {},
   "outputs": [
    {
     "data": {
      "image/png": "[encoded data removed]",
      "text/plain": [
       "<Figure size 1008x576 with 1 Axes>"
      ]
     },
     "metadata": {
      "needs_background": "light"
     },
     "output_type": "display_data"
    },
    {
     "data": {
      "image/png": "[encoded data removed]",
      "text/plain": [
       "<Figure size 1008x576 with 1 Axes>"
      ]
     },
     "metadata": {
      "needs_background": "light"
     },
     "output_type": "display_data"
    }
   ],
   "source": [
    "data.groupby('Gender')['open_rate_avg'].mean().plot.bar(color = 'b')\n",
    "data.groupby('Gender')['click_to_open_rate_avg'].mean().plot.bar(color = 'r')\n",
    "plt.legend()\n",
    "plt.show()\n",
    "x = data.groupby('Gender')['Customer_ID'].count() #/len(data)\n",
    "x.plot.bar()\n",
    "plt.title('Gender Distribution')\n",
    "plt.tight_layout()\n"
   ]
  },
  {
   "cell_type": "markdown",
   "id": "94c7003e",
   "metadata": {},
   "source": []
  },
  {
   "cell_type": "markdown",
   "id": "4f3444ba",
   "metadata": {},
   "source": [
    "# Email Subscription Distribution"
   ]
  },
  {
   "cell_type": "code",
   "execution_count": 891,
   "id": "d0a53090",
   "metadata": {},
   "outputs": [
    {
     "data": {
      "image/png": "[encoded data removed]",
      "text/plain": [
       "<Figure size 1008x576 with 1 Axes>"
      ]
     },
     "metadata": {
      "needs_background": "light"
     },
     "output_type": "display_data"
    }
   ],
   "source": [
    "x = data.groupby('Email_Unsubscribe_Ind')['Customer_ID'].count() #/len(data)\n",
    "x.plot.bar()\n",
    "plt.title('Email Subscription Distribution')\n",
    "plt.tight_layout()"
   ]
  },
  {
   "cell_type": "markdown",
   "id": "742728e3",
   "metadata": {},
   "source": []
  },
  {
   "cell_type": "markdown",
   "id": "10e5938e",
   "metadata": {},
   "source": [
    "# Customer Churn Prediction"
   ]
  },
  {
   "cell_type": "markdown",
   "id": "fcf61f50",
   "metadata": {},
   "source": [
    "# Decision Tree Model for feature importance (Churn)"
   ]
  },
  {
   "cell_type": "code",
   "execution_count": 892,
   "id": "32876491",
   "metadata": {},
   "outputs": [
    {
     "data": {
      "image/png": "[encoded data removed]",
      "text/plain": [
       "<Figure size 720x360 with 1 Axes>"
      ]
     },
     "metadata": {
      "needs_background": "light"
     },
     "output_type": "display_data"
    }
   ],
   "source": [
    "y = data['Email_Unsubscribe_Ind']\n",
    "train = pd.get_dummies(data.drop(['Customer_ID', 'Customer_Status', 'Email_Unsubscribe_Ind'], axis = 1))\n",
    "\n",
    "tree = DecisionTreeClassifier(max_depth = 5, class_weight = 'balanced', min_impurity_decrease = 0.001)\n",
    "tree.fit(train, y)\n",
    "\n",
    "feat_importances = pd.Series(tree.feature_importances_, \n",
    "                             index=train.columns)\n",
    "feat_importances.sort_values().plot(kind='barh', figsize = (10,5))\n",
    "plt.show()"
   ]
  },
  {
   "cell_type": "code",
   "execution_count": 893,
   "id": "1cfb267a",
   "metadata": {
    "scrolled": false
   },
   "outputs": [
    {
     "data": {
      "image/png": "[encoded data removed]",
      "text/plain": [
       "<Figure size 1008x576 with 1 Axes>"
      ]
     },
     "metadata": {
      "needs_background": "light"
     },
     "output_type": "display_data"
    }
   ],
   "source": [
    "data.groupby('mean_num_email_sent')['Email_Unsubscribe_Ind'].sum().plot.bar(color = 'b')\n",
    "plt.legend()\n",
    "plt.show()"
   ]
  },
  {
   "cell_type": "code",
   "execution_count": 997,
   "id": "bdcd7560",
   "metadata": {
    "scrolled": true
   },
   "outputs": [
    {
     "data": {
      "image/png": "[encoded data removed]",
      "text/plain": [
       "<Figure size 1008x576 with 1 Axes>"
      ]
     },
     "metadata": {
      "needs_background": "light"
     },
     "output_type": "display_data"
    }
   ],
   "source": [
    "data.groupby('Purchase_in_2020')['Email_Unsubscribe_Ind'].sum().plot.bar(color = 'b')\n",
    "plt.legend()\n",
    "plt.show()"
   ]
  },
  {
   "cell_type": "markdown",
   "id": "45565433",
   "metadata": {},
   "source": [
    "# Customer Churn Prediction using Random Forest"
   ]
  },
  {
   "cell_type": "code",
   "execution_count": 993,
   "id": "873f07bf",
   "metadata": {},
   "outputs": [
    {
     "name": "stdout",
     "output_type": "stream",
     "text": [
      "Classifier:  RandomForestClassifier Has a training score of 90.0 % accuracy score\n"
     ]
    }
   ],
   "source": [
    "# Training\n",
    "X = data.drop(['Email_Unsubscribe_Ind', 'Customer_ID', 'Customer_Status', 'Gender', 'mean_age','open_rate_avg', 'click_to_open_rate_avg'], axis=1)\n",
    "Z = data['Email_Unsubscribe_Ind']\n",
    "\n",
    "from sklearn.model_selection import train_test_split\n",
    "\n",
    "X_train, X_test, Z_train, Z_test = train_test_split(X, Z, test_size=0.2, random_state=42)\n",
    "\n",
    "X_train = X_train.values\n",
    "X_test = X_test.values\n",
    "Z_train = Z_train.values\n",
    "Z_test = Z_test.values\n",
    "\n",
    "from sklearn.ensemble import RandomForestClassifier\n",
    "from sklearn import model_selection\n",
    "\n",
    "from sklearn.model_selection import cross_val_score\n",
    "\n",
    "\n",
    "RF = RandomForestClassifier()\n",
    "RF.fit(X_train, Z_train)\n",
    "training_score = cross_val_score(RF, X_train, Z_train, cv=5)\n",
    "print(\"Classifier: \", RF.__class__.__name__, \"Has a training score of\", round(training_score.mean(), 2) * 100, \"% accuracy score\")\n",
    "\n"
   ]
  },
  {
   "cell_type": "code",
   "execution_count": 994,
   "id": "04108fdb",
   "metadata": {},
   "outputs": [
    {
     "name": "stdout",
     "output_type": "stream",
     "text": [
      "Random Forest Classifier:\n",
      "              precision    recall  f1-score   support\n",
      "\n",
      "           0       0.93      0.97      0.95       703\n",
      "           1       0.72      0.49      0.59        97\n",
      "\n",
      "    accuracy                           0.92       800\n",
      "   macro avg       0.82      0.73      0.77       800\n",
      "weighted avg       0.91      0.92      0.91       800\n",
      "\n",
      "0.915\n"
     ]
    }
   ],
   "source": [
    "# Testing\n",
    "from sklearn.metrics import accuracy_score\n",
    "\n",
    "Z_pred_RF = RF.predict(X_test)\n",
    "\n",
    "print('Random Forest Classifier:')\n",
    "print(classification_report(Z_test, Z_pred_RF))\n",
    "print(accuracy_score(Z_test, Z_pred_RF))"
   ]
  },
  {
   "cell_type": "markdown",
   "id": "807b2bd9",
   "metadata": {},
   "source": [
    "# Conversion Rate Prediction"
   ]
  },
  {
   "cell_type": "code",
   "execution_count": 896,
   "id": "c1491147",
   "metadata": {},
   "outputs": [],
   "source": [
    "data['conversion'] = round(data['open_rate_avg']*data['click_to_open_rate_avg']/100, 2)"
   ]
  },
  {
   "cell_type": "code",
   "execution_count": 897,
   "id": "362a2a57",
   "metadata": {},
   "outputs": [
    {
     "data": {
      "text/html": [
       "<div>\n",
       "<style scoped>\n",
       "    .dataframe tbody tr th:only-of-type {\n",
       "        vertical-align: middle;\n",
       "    }\n",
       "\n",
       "    .dataframe tbody tr th {\n",
       "        vertical-align: top;\n",
       "    }\n",
       "\n",
       "    .dataframe thead th {\n",
       "        text-align: right;\n",
       "    }\n",
       "</style>\n",
       "<table border=\"1\" class=\"dataframe\">\n",
       "  <thead>\n",
       "    <tr style=\"text-align: right;\">\n",
       "      <th></th>\n",
       "      <th>Customer_ID</th>\n",
       "      <th>Gender</th>\n",
       "      <th>Boxes_Purchased_Cnt</th>\n",
       "      <th>Email_Unsubscribe_Ind</th>\n",
       "      <th>Customer_Status</th>\n",
       "      <th>mean_age</th>\n",
       "      <th>mean_num_email_sent</th>\n",
       "      <th>open_rate_avg</th>\n",
       "      <th>click_to_open_rate_avg</th>\n",
       "      <th>Purchase_in_2020</th>\n",
       "      <th>conversion</th>\n",
       "    </tr>\n",
       "  </thead>\n",
       "  <tbody>\n",
       "    <tr>\n",
       "      <th>0</th>\n",
       "      <td>1</td>\n",
       "      <td>F</td>\n",
       "      <td>2</td>\n",
       "      <td>0</td>\n",
       "      <td>active</td>\n",
       "      <td>29</td>\n",
       "      <td>14</td>\n",
       "      <td>0.0</td>\n",
       "      <td>0.0</td>\n",
       "      <td>1</td>\n",
       "      <td>0.00</td>\n",
       "    </tr>\n",
       "    <tr>\n",
       "      <th>1</th>\n",
       "      <td>2</td>\n",
       "      <td>M</td>\n",
       "      <td>1</td>\n",
       "      <td>1</td>\n",
       "      <td>cancel</td>\n",
       "      <td>49</td>\n",
       "      <td>14</td>\n",
       "      <td>62.5</td>\n",
       "      <td>5.0</td>\n",
       "      <td>1</td>\n",
       "      <td>3.12</td>\n",
       "    </tr>\n",
       "    <tr>\n",
       "      <th>2</th>\n",
       "      <td>3</td>\n",
       "      <td>M</td>\n",
       "      <td>2</td>\n",
       "      <td>0</td>\n",
       "      <td>active</td>\n",
       "      <td>39</td>\n",
       "      <td>24</td>\n",
       "      <td>37.5</td>\n",
       "      <td>27.5</td>\n",
       "      <td>0</td>\n",
       "      <td>10.31</td>\n",
       "    </tr>\n",
       "    <tr>\n",
       "      <th>3</th>\n",
       "      <td>4</td>\n",
       "      <td>F</td>\n",
       "      <td>2</td>\n",
       "      <td>1</td>\n",
       "      <td>active</td>\n",
       "      <td>55</td>\n",
       "      <td>24</td>\n",
       "      <td>0.0</td>\n",
       "      <td>0.0</td>\n",
       "      <td>1</td>\n",
       "      <td>0.00</td>\n",
       "    </tr>\n",
       "    <tr>\n",
       "      <th>4</th>\n",
       "      <td>5</td>\n",
       "      <td>M</td>\n",
       "      <td>2</td>\n",
       "      <td>1</td>\n",
       "      <td>active</td>\n",
       "      <td>29</td>\n",
       "      <td>0</td>\n",
       "      <td>0.0</td>\n",
       "      <td>0.0</td>\n",
       "      <td>1</td>\n",
       "      <td>0.00</td>\n",
       "    </tr>\n",
       "  </tbody>\n",
       "</table>\n",
       "</div>"
      ],
      "text/plain": [
       "   Customer_ID Gender  Boxes_Purchased_Cnt  Email_Unsubscribe_Ind  \\\n",
       "0            1      F                    2                      0   \n",
       "1            2      M                    1                      1   \n",
       "2            3      M                    2                      0   \n",
       "3            4      F                    2                      1   \n",
       "4            5      M                    2                      1   \n",
       "\n",
       "  Customer_Status  mean_age  mean_num_email_sent  open_rate_avg  \\\n",
       "0          active        29                   14            0.0   \n",
       "1          cancel        49                   14           62.5   \n",
       "2          active        39                   24           37.5   \n",
       "3          active        55                   24            0.0   \n",
       "4          active        29                    0            0.0   \n",
       "\n",
       "   click_to_open_rate_avg  Purchase_in_2020  conversion  \n",
       "0                     0.0                 1        0.00  \n",
       "1                     5.0                 1        3.12  \n",
       "2                    27.5                 0       10.31  \n",
       "3                     0.0                 1        0.00  \n",
       "4                     0.0                 1        0.00  "
      ]
     },
     "execution_count": 897,
     "metadata": {},
     "output_type": "execute_result"
    }
   ],
   "source": [
    "data.head()"
   ]
  },
  {
   "cell_type": "code",
   "execution_count": 898,
   "id": "51240b65",
   "metadata": {},
   "outputs": [
    {
     "data": {
      "text/plain": [
       "array([ 0.  ,  3.12, 10.31,  1.88,  7.5 ,  7.81,  0.62,  2.5 ,  4.69,\n",
       "       10.94,  1.56,  3.44, 17.19,  4.38, 12.5 , 24.06, 17.5 ])"
      ]
     },
     "execution_count": 898,
     "metadata": {},
     "output_type": "execute_result"
    }
   ],
   "source": [
    "data['conversion'].unique()"
   ]
  },
  {
   "cell_type": "code",
   "execution_count": 899,
   "id": "f90396bd",
   "metadata": {},
   "outputs": [
    {
     "data": {
      "text/plain": [
       "<AxesSubplot:>"
      ]
     },
     "execution_count": 899,
     "metadata": {},
     "output_type": "execute_result"
    },
    {
     "data": {
      "image/png": "[encoded data removed]",
      "text/plain": [
       "<Figure size 1008x576 with 1 Axes>"
      ]
     },
     "metadata": {
      "needs_background": "light"
     },
     "output_type": "display_data"
    }
   ],
   "source": [
    "data['conversion'].hist()"
   ]
  },
  {
   "cell_type": "code",
   "execution_count": 900,
   "id": "f64e45f2",
   "metadata": {},
   "outputs": [
    {
     "data": {
      "text/plain": [
       "2.5196750000000057"
      ]
     },
     "execution_count": 900,
     "metadata": {},
     "output_type": "execute_result"
    }
   ],
   "source": [
    "data['conversion'].mean()"
   ]
  },
  {
   "cell_type": "markdown",
   "id": "fc78d4a8",
   "metadata": {},
   "source": [
    "We convert the conversion rate value to binary"
   ]
  },
  {
   "cell_type": "code",
   "execution_count": 1022,
   "id": "eec9c4e5",
   "metadata": {},
   "outputs": [],
   "source": [
    "# We assume that a conversion rate of 5% and above is high and we show it with 1.\n",
    "\n",
    "def mapper(x):\n",
    "    if x>= 5:\n",
    "        return 1\n",
    "    elif x< 5:\n",
    "        return 0\n",
    "data['conversion_binary'] = data['conversion'].apply(mapper)"
   ]
  },
  {
   "cell_type": "code",
   "execution_count": 1023,
   "id": "21c0426a",
   "metadata": {},
   "outputs": [],
   "source": [
    "conversion_binary = data['conversion_binary']"
   ]
  },
  {
   "cell_type": "code",
   "execution_count": 1024,
   "id": "b0adb3fe",
   "metadata": {},
   "outputs": [
    {
     "data": {
      "text/html": [
       "<div>\n",
       "<style scoped>\n",
       "    .dataframe tbody tr th:only-of-type {\n",
       "        vertical-align: middle;\n",
       "    }\n",
       "\n",
       "    .dataframe tbody tr th {\n",
       "        vertical-align: top;\n",
       "    }\n",
       "\n",
       "    .dataframe thead th {\n",
       "        text-align: right;\n",
       "    }\n",
       "</style>\n",
       "<table border=\"1\" class=\"dataframe\">\n",
       "  <thead>\n",
       "    <tr style=\"text-align: right;\">\n",
       "      <th></th>\n",
       "      <th>Customer_ID</th>\n",
       "      <th>Gender</th>\n",
       "      <th>Boxes_Purchased_Cnt</th>\n",
       "      <th>Email_Unsubscribe_Ind</th>\n",
       "      <th>Customer_Status</th>\n",
       "      <th>mean_age</th>\n",
       "      <th>mean_num_email_sent</th>\n",
       "      <th>open_rate_avg</th>\n",
       "      <th>click_to_open_rate_avg</th>\n",
       "      <th>Purchase_in_2020</th>\n",
       "      <th>conversion</th>\n",
       "      <th>conversion_binary</th>\n",
       "      <th>Male</th>\n",
       "    </tr>\n",
       "  </thead>\n",
       "  <tbody>\n",
       "    <tr>\n",
       "      <th>0</th>\n",
       "      <td>1</td>\n",
       "      <td>F</td>\n",
       "      <td>2</td>\n",
       "      <td>0</td>\n",
       "      <td>active</td>\n",
       "      <td>29</td>\n",
       "      <td>14</td>\n",
       "      <td>0.0</td>\n",
       "      <td>0.0</td>\n",
       "      <td>1</td>\n",
       "      <td>0.00</td>\n",
       "      <td>0</td>\n",
       "      <td>0</td>\n",
       "    </tr>\n",
       "    <tr>\n",
       "      <th>1</th>\n",
       "      <td>2</td>\n",
       "      <td>M</td>\n",
       "      <td>1</td>\n",
       "      <td>1</td>\n",
       "      <td>cancel</td>\n",
       "      <td>49</td>\n",
       "      <td>14</td>\n",
       "      <td>62.5</td>\n",
       "      <td>5.0</td>\n",
       "      <td>1</td>\n",
       "      <td>3.12</td>\n",
       "      <td>0</td>\n",
       "      <td>1</td>\n",
       "    </tr>\n",
       "    <tr>\n",
       "      <th>2</th>\n",
       "      <td>3</td>\n",
       "      <td>M</td>\n",
       "      <td>2</td>\n",
       "      <td>0</td>\n",
       "      <td>active</td>\n",
       "      <td>39</td>\n",
       "      <td>24</td>\n",
       "      <td>37.5</td>\n",
       "      <td>27.5</td>\n",
       "      <td>0</td>\n",
       "      <td>10.31</td>\n",
       "      <td>1</td>\n",
       "      <td>1</td>\n",
       "    </tr>\n",
       "    <tr>\n",
       "      <th>3</th>\n",
       "      <td>4</td>\n",
       "      <td>F</td>\n",
       "      <td>2</td>\n",
       "      <td>1</td>\n",
       "      <td>active</td>\n",
       "      <td>55</td>\n",
       "      <td>24</td>\n",
       "      <td>0.0</td>\n",
       "      <td>0.0</td>\n",
       "      <td>1</td>\n",
       "      <td>0.00</td>\n",
       "      <td>0</td>\n",
       "      <td>0</td>\n",
       "    </tr>\n",
       "    <tr>\n",
       "      <th>4</th>\n",
       "      <td>5</td>\n",
       "      <td>M</td>\n",
       "      <td>2</td>\n",
       "      <td>1</td>\n",
       "      <td>active</td>\n",
       "      <td>29</td>\n",
       "      <td>0</td>\n",
       "      <td>0.0</td>\n",
       "      <td>0.0</td>\n",
       "      <td>1</td>\n",
       "      <td>0.00</td>\n",
       "      <td>0</td>\n",
       "      <td>1</td>\n",
       "    </tr>\n",
       "  </tbody>\n",
       "</table>\n",
       "</div>"
      ],
      "text/plain": [
       "   Customer_ID Gender  Boxes_Purchased_Cnt  Email_Unsubscribe_Ind  \\\n",
       "0            1      F                    2                      0   \n",
       "1            2      M                    1                      1   \n",
       "2            3      M                    2                      0   \n",
       "3            4      F                    2                      1   \n",
       "4            5      M                    2                      1   \n",
       "\n",
       "  Customer_Status  mean_age  mean_num_email_sent  open_rate_avg  \\\n",
       "0          active        29                   14            0.0   \n",
       "1          cancel        49                   14           62.5   \n",
       "2          active        39                   24           37.5   \n",
       "3          active        55                   24            0.0   \n",
       "4          active        29                    0            0.0   \n",
       "\n",
       "   click_to_open_rate_avg  Purchase_in_2020  conversion  conversion_binary  \\\n",
       "0                     0.0                 1        0.00                  0   \n",
       "1                     5.0                 1        3.12                  0   \n",
       "2                    27.5                 0       10.31                  1   \n",
       "3                     0.0                 1        0.00                  0   \n",
       "4                     0.0                 1        0.00                  0   \n",
       "\n",
       "   Male  \n",
       "0     0  \n",
       "1     1  \n",
       "2     1  \n",
       "3     0  \n",
       "4     1  "
      ]
     },
     "execution_count": 1024,
     "metadata": {},
     "output_type": "execute_result"
    }
   ],
   "source": [
    "data.head()"
   ]
  },
  {
   "cell_type": "markdown",
   "id": "94f36d6b",
   "metadata": {},
   "source": [
    "# Decision Tree Model for feature importance (Conversion Rate)"
   ]
  },
  {
   "cell_type": "code",
   "execution_count": 1018,
   "id": "e9b964c0",
   "metadata": {
    "scrolled": true
   },
   "outputs": [
    {
     "data": {
      "image/png": "[encoded data removed]",
      "text/plain": [
       "<Figure size 720x360 with 1 Axes>"
      ]
     },
     "metadata": {
      "needs_background": "light"
     },
     "output_type": "display_data"
    }
   ],
   "source": [
    "y = data['conversion_binary']\n",
    "train = pd.get_dummies(data.drop(['Customer_ID', 'conversion_binary', 'conversion', 'click_to_open_rate_avg', 'open_rate_avg'], axis = 1))\n",
    "\n",
    "tree = DecisionTreeClassifier(max_depth = 5, class_weight = 'balanced', min_impurity_decrease = 0.001)\n",
    "tree.fit(train, y)\n",
    "\n",
    "feat_importances = pd.Series(tree.feature_importances_, \n",
    "                             index=train.columns)\n",
    "feat_importances.sort_values().plot(kind='barh', figsize = (10,5))\n",
    "plt.show()"
   ]
  },
  {
   "cell_type": "code",
   "execution_count": 1019,
   "id": "913fbe9a",
   "metadata": {
    "scrolled": true
   },
   "outputs": [
    {
     "data": {
      "text/html": [
       "<div>\n",
       "<style scoped>\n",
       "    .dataframe tbody tr th:only-of-type {\n",
       "        vertical-align: middle;\n",
       "    }\n",
       "\n",
       "    .dataframe tbody tr th {\n",
       "        vertical-align: top;\n",
       "    }\n",
       "\n",
       "    .dataframe thead th {\n",
       "        text-align: right;\n",
       "    }\n",
       "</style>\n",
       "<table border=\"1\" class=\"dataframe\">\n",
       "  <thead>\n",
       "    <tr style=\"text-align: right;\">\n",
       "      <th></th>\n",
       "      <th>Customer_ID</th>\n",
       "      <th>Gender</th>\n",
       "      <th>Boxes_Purchased_Cnt</th>\n",
       "      <th>Email_Unsubscribe_Ind</th>\n",
       "      <th>Customer_Status</th>\n",
       "      <th>mean_age</th>\n",
       "      <th>mean_num_email_sent</th>\n",
       "      <th>open_rate_avg</th>\n",
       "      <th>click_to_open_rate_avg</th>\n",
       "      <th>Purchase_in_2020</th>\n",
       "      <th>conversion</th>\n",
       "      <th>conversion_binary</th>\n",
       "      <th>Male</th>\n",
       "    </tr>\n",
       "  </thead>\n",
       "  <tbody>\n",
       "    <tr>\n",
       "      <th>0</th>\n",
       "      <td>1</td>\n",
       "      <td>F</td>\n",
       "      <td>2</td>\n",
       "      <td>0</td>\n",
       "      <td>active</td>\n",
       "      <td>29</td>\n",
       "      <td>14</td>\n",
       "      <td>0.0</td>\n",
       "      <td>0.0</td>\n",
       "      <td>1</td>\n",
       "      <td>0.00</td>\n",
       "      <td>0</td>\n",
       "      <td>0</td>\n",
       "    </tr>\n",
       "    <tr>\n",
       "      <th>1</th>\n",
       "      <td>2</td>\n",
       "      <td>M</td>\n",
       "      <td>1</td>\n",
       "      <td>1</td>\n",
       "      <td>cancel</td>\n",
       "      <td>49</td>\n",
       "      <td>14</td>\n",
       "      <td>62.5</td>\n",
       "      <td>5.0</td>\n",
       "      <td>1</td>\n",
       "      <td>3.12</td>\n",
       "      <td>0</td>\n",
       "      <td>1</td>\n",
       "    </tr>\n",
       "    <tr>\n",
       "      <th>2</th>\n",
       "      <td>3</td>\n",
       "      <td>M</td>\n",
       "      <td>2</td>\n",
       "      <td>0</td>\n",
       "      <td>active</td>\n",
       "      <td>39</td>\n",
       "      <td>24</td>\n",
       "      <td>37.5</td>\n",
       "      <td>27.5</td>\n",
       "      <td>0</td>\n",
       "      <td>10.31</td>\n",
       "      <td>1</td>\n",
       "      <td>1</td>\n",
       "    </tr>\n",
       "    <tr>\n",
       "      <th>3</th>\n",
       "      <td>4</td>\n",
       "      <td>F</td>\n",
       "      <td>2</td>\n",
       "      <td>1</td>\n",
       "      <td>active</td>\n",
       "      <td>55</td>\n",
       "      <td>24</td>\n",
       "      <td>0.0</td>\n",
       "      <td>0.0</td>\n",
       "      <td>1</td>\n",
       "      <td>0.00</td>\n",
       "      <td>0</td>\n",
       "      <td>0</td>\n",
       "    </tr>\n",
       "    <tr>\n",
       "      <th>4</th>\n",
       "      <td>5</td>\n",
       "      <td>M</td>\n",
       "      <td>2</td>\n",
       "      <td>1</td>\n",
       "      <td>active</td>\n",
       "      <td>29</td>\n",
       "      <td>0</td>\n",
       "      <td>0.0</td>\n",
       "      <td>0.0</td>\n",
       "      <td>1</td>\n",
       "      <td>0.00</td>\n",
       "      <td>0</td>\n",
       "      <td>1</td>\n",
       "    </tr>\n",
       "  </tbody>\n",
       "</table>\n",
       "</div>"
      ],
      "text/plain": [
       "   Customer_ID Gender  Boxes_Purchased_Cnt  Email_Unsubscribe_Ind  \\\n",
       "0            1      F                    2                      0   \n",
       "1            2      M                    1                      1   \n",
       "2            3      M                    2                      0   \n",
       "3            4      F                    2                      1   \n",
       "4            5      M                    2                      1   \n",
       "\n",
       "  Customer_Status  mean_age  mean_num_email_sent  open_rate_avg  \\\n",
       "0          active        29                   14            0.0   \n",
       "1          cancel        49                   14           62.5   \n",
       "2          active        39                   24           37.5   \n",
       "3          active        55                   24            0.0   \n",
       "4          active        29                    0            0.0   \n",
       "\n",
       "   click_to_open_rate_avg  Purchase_in_2020  conversion  conversion_binary  \\\n",
       "0                     0.0                 1        0.00                  0   \n",
       "1                     5.0                 1        3.12                  0   \n",
       "2                    27.5                 0       10.31                  1   \n",
       "3                     0.0                 1        0.00                  0   \n",
       "4                     0.0                 1        0.00                  0   \n",
       "\n",
       "   Male  \n",
       "0     0  \n",
       "1     1  \n",
       "2     1  \n",
       "3     0  \n",
       "4     1  "
      ]
     },
     "execution_count": 1019,
     "metadata": {},
     "output_type": "execute_result"
    }
   ],
   "source": [
    "def gen_model(n):\n",
    "    if n == 'M':\n",
    "        return 1\n",
    "    else:\n",
    "        return 0\n",
    "data['Male'] = data['Gender'].apply(gen_model)\n",
    "Male = data['Male']\n",
    "\n",
    "data.head()"
   ]
  },
  {
   "cell_type": "markdown",
   "id": "ac3eb7f0",
   "metadata": {},
   "source": [
    "# Conversion Rate Prediction using Random Forest"
   ]
  },
  {
   "cell_type": "code",
   "execution_count": 1025,
   "id": "08115928",
   "metadata": {},
   "outputs": [
    {
     "name": "stdout",
     "output_type": "stream",
     "text": [
      "Classifier:  RandomForestClassifier Has a training score of 87.0 % accuracy score\n"
     ]
    }
   ],
   "source": [
    "# Training\n",
    "A = data.drop(['conversion_binary', 'Customer_ID','Gender','Boxes_Purchased_Cnt','Email_Unsubscribe_Ind','conversion','Purchase_in_2020', 'Customer_Status', 'click_to_open_rate_avg', 'open_rate_avg'], axis=1)\n",
    "B = data['conversion_binary']\n",
    "\n",
    "from sklearn.model_selection import train_test_split\n",
    "\n",
    "A_train, A_test, B_train, B_test = train_test_split(A, B, test_size=0.2, random_state=42)\n",
    "\n",
    "A_train = A_train.values\n",
    "A_test = A_test.values\n",
    "B_train = B_train.values\n",
    "B_test = B_test.values\n",
    "\n",
    "from sklearn.ensemble import RandomForestClassifier\n",
    "from sklearn import model_selection\n",
    "\n",
    "from sklearn.model_selection import cross_val_score\n",
    "\n",
    "\n",
    "RF2 = RandomForestClassifier()\n",
    "RF2.fit(A_train, B_train)\n",
    "training_score = cross_val_score(RF2, A_train, B_train, cv=5)\n",
    "print(\"Classifier: \", RF2.__class__.__name__, \"Has a training score of\", round(training_score.mean(), 2) * 100, \"% accuracy score\")\n"
   ]
  },
  {
   "cell_type": "code",
   "execution_count": 1026,
   "id": "3216b210",
   "metadata": {},
   "outputs": [
    {
     "name": "stdout",
     "output_type": "stream",
     "text": [
      "Random Forest Classifier:\n",
      "              precision    recall  f1-score   support\n",
      "\n",
      "           0       0.86      1.00      0.93       692\n",
      "           1       0.00      0.00      0.00       108\n",
      "\n",
      "    accuracy                           0.86       800\n",
      "   macro avg       0.43      0.50      0.46       800\n",
      "weighted avg       0.75      0.86      0.80       800\n",
      "\n",
      "0.865\n"
     ]
    }
   ],
   "source": [
    "# Testing\n",
    "from sklearn.metrics import accuracy_score\n",
    "\n",
    "B_pred_RF = RF2.predict(A_test)\n",
    "\n",
    "print('Random Forest Classifier:')\n",
    "print(classification_report(B_test, B_pred_RF))\n",
    "print(accuracy_score(B_test, B_pred_RF))"
   ]
  },
  {
   "cell_type": "code",
   "execution_count": 1021,
   "id": "674b5f82",
   "metadata": {},
   "outputs": [
    {
     "data": {
      "image/png": "[encoded data removed]",
      "text/plain": [
       "<Figure size 1008x576 with 1 Axes>"
      ]
     },
     "metadata": {
      "needs_background": "light"
     },
     "output_type": "display_data"
    }
   ],
   "source": [
    "data.groupby('Gender')['Boxes_Purchased_Cnt'].sum().plot.bar(color = 'b')\n",
    "plt.legend()\n",
    "plt.show()"
   ]
  },
  {
   "cell_type": "code",
   "execution_count": null,
   "id": "491c809b",
   "metadata": {},
   "outputs": [],
   "source": []
  }
 ],
 "metadata": {
  "kernelspec": {
   "display_name": "Python 3",
   "language": "python",
   "name": "python3"
  },
  "language_info": {
   "codemirror_mode": {
    "name": "ipython",
    "version": 3
   },
   "file_extension": ".py",
   "mimetype": "text/x-python",
   "name": "python",
   "nbconvert_exporter": "python",
   "pygments_lexer": "ipython3",
   "version": "3.8.8"
  }
 },
 "nbformat": 4,
 "nbformat_minor": 5
}
